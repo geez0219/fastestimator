{
 "cells": [
  {
   "cell_type": "markdown",
   "metadata": {
    "papermill": {
     "duration": 0.015563,
     "end_time": "2020-07-09T08:13:42.444326",
     "exception": false,
     "start_time": "2020-07-09T08:13:42.428763",
     "status": "completed"
    },
    "tags": []
   },
   "source": [
    "# Named Entity Recognition using BERT Fine-Tuning"
   ]
  },
  {
   "cell_type": "markdown",
   "metadata": {
    "papermill": {
     "duration": 0.010315,
     "end_time": "2020-07-09T08:13:42.465611",
     "exception": false,
     "start_time": "2020-07-09T08:13:42.455296",
     "status": "completed"
    },
    "tags": []
   },
   "source": [
    "For downstream NLP tasks such as question answering, named entity recognition, and language inference, models built on pre-trained word representations tend to perform better. BERT, which fine tunes a deep bi-directional representation on a series of tasks, achieves state-of-the-art results. Unlike traditional transformers, BERT is trained on \"masked language modeling,\" which means that it is allowed to see the whole sentence and does not limit the context it can take into account."
   ]
  },
  {
   "cell_type": "markdown",
   "metadata": {
    "papermill": {
     "duration": 0.010156,
     "end_time": "2020-07-09T08:13:42.485855",
     "exception": false,
     "start_time": "2020-07-09T08:13:42.475699",
     "status": "completed"
    },
    "tags": []
   },
   "source": [
    "For this example, we are leveraging the transformers library to load a BERT model, along with some config files:"
   ]
  },
  {
   "cell_type": "code",
   "execution_count": 1,
   "metadata": {
    "execution": {
     "iopub.execute_input": "2020-07-09T08:13:42.511425Z",
     "iopub.status.busy": "2020-07-09T08:13:42.511086Z",
     "iopub.status.idle": "2020-07-09T08:13:45.011251Z",
     "shell.execute_reply": "2020-07-09T08:13:45.010886Z"
    },
    "papermill": {
     "duration": 2.514508,
     "end_time": "2020-07-09T08:13:45.011323",
     "exception": false,
     "start_time": "2020-07-09T08:13:42.496815",
     "status": "completed"
    },
    "tags": []
   },
   "outputs": [],
   "source": [
    "import tempfile\n",
    "import os\n",
    "import numpy as np\n",
    "\n",
    "import tensorflow as tf\n",
    "from tensorflow.keras.layers import Dense, Input\n",
    "from tensorflow.keras.models import Model\n",
    "from transformers import BertTokenizer, TFBertModel\n",
    "\n",
    "import fastestimator as fe\n",
    "from fastestimator.dataset.data import german_ner\n",
    "from fastestimator.op.numpyop.numpyop import NumpyOp\n",
    "from fastestimator.op.numpyop.univariate import PadSequence, Tokenize, WordtoId\n",
    "from fastestimator.op.tensorop import TensorOp, Reshape\n",
    "from fastestimator.op.tensorop.loss import CrossEntropy\n",
    "from fastestimator.op.tensorop.model import ModelOp, UpdateOp\n",
    "from fastestimator.trace.metric import Accuracy\n",
    "from fastestimator.trace.io import BestModelSaver\n",
    "from fastestimator.backend import feed_forward"
   ]
  },
  {
   "cell_type": "code",
   "execution_count": 2,
   "metadata": {
    "execution": {
     "iopub.execute_input": "2020-07-09T08:13:45.039641Z",
     "iopub.status.busy": "2020-07-09T08:13:45.039260Z",
     "iopub.status.idle": "2020-07-09T08:13:45.040789Z",
     "shell.execute_reply": "2020-07-09T08:13:45.041051Z"
    },
    "papermill": {
     "duration": 0.019309,
     "end_time": "2020-07-09T08:13:45.041119",
     "exception": false,
     "start_time": "2020-07-09T08:13:45.021810",
     "status": "completed"
    },
    "tags": [
     "parameters"
    ]
   },
   "outputs": [],
   "source": [
    "max_len = 20\n",
    "batch_size = 64\n",
    "epochs = 10\n",
    "max_train_steps_per_epoch = None\n",
    "max_eval_steps_per_epoch = None\n",
    "save_dir = tempfile.mkdtemp()\n",
    "data_dir = None"
   ]
  },
  {
   "cell_type": "code",
   "execution_count": 3,
   "metadata": {
    "execution": {
     "iopub.execute_input": "2020-07-09T08:13:45.064666Z",
     "iopub.status.busy": "2020-07-09T08:13:45.064338Z",
     "iopub.status.idle": "2020-07-09T08:13:45.065749Z",
     "shell.execute_reply": "2020-07-09T08:13:45.066015Z"
    },
    "papermill": {
     "duration": 0.014654,
     "end_time": "2020-07-09T08:13:45.066082",
     "exception": false,
     "start_time": "2020-07-09T08:13:45.051428",
     "status": "completed"
    },
    "tags": [
     "injected-parameters"
    ]
   },
   "outputs": [],
   "source": [
    "# Parameters\n",
    "epochs = 2\n",
    "batch_size = 4\n",
    "max_train_steps_per_epoch = 10\n",
    "max_eval_steps_per_epoch = 10\n"
   ]
  },
  {
   "cell_type": "markdown",
   "metadata": {
    "papermill": {
     "duration": 0.010345,
     "end_time": "2020-07-09T08:13:45.086754",
     "exception": false,
     "start_time": "2020-07-09T08:13:45.076409",
     "status": "completed"
    },
    "tags": []
   },
   "source": [
    "We will need a custom `NumpyOp` that constructs attention masks for input sequences:"
   ]
  },
  {
   "cell_type": "code",
   "execution_count": 4,
   "metadata": {
    "execution": {
     "iopub.execute_input": "2020-07-09T08:13:45.109959Z",
     "iopub.status.busy": "2020-07-09T08:13:45.109632Z",
     "iopub.status.idle": "2020-07-09T08:13:45.110973Z",
     "shell.execute_reply": "2020-07-09T08:13:45.111239Z"
    },
    "papermill": {
     "duration": 0.014354,
     "end_time": "2020-07-09T08:13:45.111309",
     "exception": false,
     "start_time": "2020-07-09T08:13:45.096955",
     "status": "completed"
    },
    "tags": []
   },
   "outputs": [],
   "source": [
    "class AttentionMask(NumpyOp):\n",
    "    def forward(self, data, state):\n",
    "        masks = [float(i > 0) for i in data]\n",
    "        return np.array(masks)"
   ]
  },
  {
   "cell_type": "markdown",
   "metadata": {
    "papermill": {
     "duration": 0.010326,
     "end_time": "2020-07-09T08:13:45.131962",
     "exception": false,
     "start_time": "2020-07-09T08:13:45.121636",
     "status": "completed"
    },
    "tags": []
   },
   "source": [
    "Our `char2idx` function creates a look-up table to match ids and labels:"
   ]
  },
  {
   "cell_type": "code",
   "execution_count": 5,
   "metadata": {
    "execution": {
     "iopub.execute_input": "2020-07-09T08:13:45.155596Z",
     "iopub.status.busy": "2020-07-09T08:13:45.155266Z",
     "iopub.status.idle": "2020-07-09T08:13:45.156569Z",
     "shell.execute_reply": "2020-07-09T08:13:45.156832Z"
    },
    "papermill": {
     "duration": 0.01449,
     "end_time": "2020-07-09T08:13:45.156902",
     "exception": false,
     "start_time": "2020-07-09T08:13:45.142412",
     "status": "completed"
    },
    "tags": []
   },
   "outputs": [],
   "source": [
    "def char2idx(data):\n",
    "    tag2idx = {t: i for i, t in enumerate(data)}\n",
    "    return tag2idx"
   ]
  },
  {
   "cell_type": "markdown",
   "metadata": {
    "papermill": {
     "duration": 0.010479,
     "end_time": "2020-07-09T08:13:45.177755",
     "exception": false,
     "start_time": "2020-07-09T08:13:45.167276",
     "status": "completed"
    },
    "tags": []
   },
   "source": [
    "<h2>Building components</h2>"
   ]
  },
  {
   "cell_type": "markdown",
   "metadata": {
    "papermill": {
     "duration": 0.01033,
     "end_time": "2020-07-09T08:13:45.198498",
     "exception": false,
     "start_time": "2020-07-09T08:13:45.188168",
     "status": "completed"
    },
    "tags": []
   },
   "source": [
    "### Step 1: Prepare training & evaluation data and define a `Pipeline`"
   ]
  },
  {
   "cell_type": "markdown",
   "metadata": {
    "papermill": {
     "duration": 0.01029,
     "end_time": "2020-07-09T08:13:45.219117",
     "exception": false,
     "start_time": "2020-07-09T08:13:45.208827",
     "status": "completed"
    },
    "tags": []
   },
   "source": [
    "The NER dataset from GermEval contains sequences and entity tags from german wikipedia and news corpora. We are loading train and eval sequences as datasets, along with data and label vocabulary. For this example other nouns are omitted for the simplicity."
   ]
  },
  {
   "cell_type": "code",
   "execution_count": 6,
   "metadata": {
    "execution": {
     "iopub.execute_input": "2020-07-09T08:13:45.242428Z",
     "iopub.status.busy": "2020-07-09T08:13:45.242063Z",
     "iopub.status.idle": "2020-07-09T08:13:48.723853Z",
     "shell.execute_reply": "2020-07-09T08:13:48.723577Z"
    },
    "papermill": {
     "duration": 3.494396,
     "end_time": "2020-07-09T08:13:48.723920",
     "exception": false,
     "start_time": "2020-07-09T08:13:45.229524",
     "status": "completed"
    },
    "tags": []
   },
   "outputs": [
    {
     "name": "stdout",
     "output_type": "stream",
     "text": [
      "Downloading data to /home/geez219/fastestimator_data/GermEval\n"
     ]
    },
    {
     "name": "stderr",
     "output_type": "stream",
     "text": [
      "\r",
      "0.00B [00:00, ?B/s]"
     ]
    },
    {
     "name": "stderr",
     "output_type": "stream",
     "text": [
      "\r",
      "65.0kB [00:00, 642kB/s]"
     ]
    },
    {
     "name": "stderr",
     "output_type": "stream",
     "text": [
      "\r",
      "214kB [00:00, 773kB/s] "
     ]
    },
    {
     "name": "stderr",
     "output_type": "stream",
     "text": [
      "\r",
      "542kB [00:00, 1.00MB/s]"
     ]
    },
    {
     "name": "stderr",
     "output_type": "stream",
     "text": [
      "\r",
      "1.31MB [00:00, 1.35MB/s]"
     ]
    },
    {
     "name": "stderr",
     "output_type": "stream",
     "text": [
      "\r",
      "2.60MB [00:00, 1.85MB/s]"
     ]
    },
    {
     "name": "stderr",
     "output_type": "stream",
     "text": [
      "\r",
      "4.40MB [00:00, 2.48MB/s]"
     ]
    },
    {
     "name": "stderr",
     "output_type": "stream",
     "text": [
      "\r",
      "5.19MB [00:00, 3.06MB/s]"
     ]
    },
    {
     "name": "stderr",
     "output_type": "stream",
     "text": [
      "\r",
      "7.88MB [00:00, 9.16MB/s]"
     ]
    },
    {
     "name": "stderr",
     "output_type": "stream",
     "text": [
      "\n"
     ]
    }
   ],
   "source": [
    "train_data, eval_data, data_vocab, label_vocab = german_ner.load_data(root_dir=data_dir)"
   ]
  },
  {
   "cell_type": "markdown",
   "metadata": {
    "papermill": {
     "duration": 0.012642,
     "end_time": "2020-07-09T08:13:48.749044",
     "exception": false,
     "start_time": "2020-07-09T08:13:48.736402",
     "status": "completed"
    },
    "tags": []
   },
   "source": [
    "Define a pipeline to tokenize and pad the input sequences and construct attention masks. Attention masks are used to avoid performing attention operations on padded tokens. We are using the BERT tokenizer for input sequence tokenization, and limiting our sequences to a max length of 50 for this example."
   ]
  },
  {
   "cell_type": "code",
   "execution_count": 7,
   "metadata": {
    "execution": {
     "iopub.execute_input": "2020-07-09T08:13:48.779255Z",
     "iopub.status.busy": "2020-07-09T08:13:48.778913Z",
     "iopub.status.idle": "2020-07-09T08:13:49.990452Z",
     "shell.execute_reply": "2020-07-09T08:13:49.990765Z"
    },
    "papermill": {
     "duration": 1.229326,
     "end_time": "2020-07-09T08:13:49.990869",
     "exception": false,
     "start_time": "2020-07-09T08:13:48.761543",
     "status": "completed"
    },
    "tags": []
   },
   "outputs": [
    {
     "data": {
      "application/vnd.jupyter.widget-view+json": {
       "model_id": "eca78b6d21ff4a64a183d6166f61da3c",
       "version_major": 2,
       "version_minor": 0
      },
      "text/plain": [
       "HBox(children=(FloatProgress(value=0.0, description='Downloading', max=231508.0, style=ProgressStyle(descripti…"
      ]
     },
     "metadata": {},
     "output_type": "display_data"
    },
    {
     "name": "stdout",
     "output_type": "stream",
     "text": [
      "\n"
     ]
    }
   ],
   "source": [
    "tokenizer = BertTokenizer.from_pretrained('bert-base-uncased', do_lower_case=True)\n",
    "tag2idx = char2idx(label_vocab)\n",
    "pipeline = fe.Pipeline(\n",
    "    train_data=train_data,\n",
    "    eval_data=eval_data,\n",
    "    batch_size=batch_size,\n",
    "    ops=[\n",
    "        Tokenize(inputs=\"x\", outputs=\"x\", tokenize_fn=tokenizer.tokenize),\n",
    "        WordtoId(inputs=\"x\", outputs=\"x\", mapping=tokenizer.convert_tokens_to_ids),\n",
    "        WordtoId(inputs=\"y\", outputs=\"y\", mapping=tag2idx),\n",
    "        PadSequence(max_len=max_len, inputs=\"x\", outputs=\"x\"),\n",
    "        PadSequence(max_len=max_len, value=len(tag2idx), inputs=\"y\", outputs=\"y\"),\n",
    "        AttentionMask(inputs=\"x\", outputs=\"x_masks\")\n",
    "    ])"
   ]
  },
  {
   "cell_type": "markdown",
   "metadata": {
    "papermill": {
     "duration": 0.013218,
     "end_time": "2020-07-09T08:13:50.017572",
     "exception": false,
     "start_time": "2020-07-09T08:13:50.004354",
     "status": "completed"
    },
    "tags": []
   },
   "source": [
    "### Step 2: Create `model` and FastEstimator `Network`"
   ]
  },
  {
   "cell_type": "markdown",
   "metadata": {
    "papermill": {
     "duration": 0.013278,
     "end_time": "2020-07-09T08:13:50.043825",
     "exception": false,
     "start_time": "2020-07-09T08:13:50.030547",
     "status": "completed"
    },
    "tags": []
   },
   "source": [
    "Our neural network architecture leverages pre-trained weights as initialization for downstream tasks. The whole network is then trained during the fine-tuning."
   ]
  },
  {
   "cell_type": "code",
   "execution_count": 8,
   "metadata": {
    "execution": {
     "iopub.execute_input": "2020-07-09T08:13:50.073514Z",
     "iopub.status.busy": "2020-07-09T08:13:50.073188Z",
     "iopub.status.idle": "2020-07-09T08:13:50.074527Z",
     "shell.execute_reply": "2020-07-09T08:13:50.074774Z"
    },
    "papermill": {
     "duration": 0.017544,
     "end_time": "2020-07-09T08:13:50.074848",
     "exception": false,
     "start_time": "2020-07-09T08:13:50.057304",
     "status": "completed"
    },
    "tags": []
   },
   "outputs": [],
   "source": [
    "def ner_model():\n",
    "    token_inputs = Input((max_len), dtype=tf.int32, name='input_words')\n",
    "    mask_inputs = Input((max_len), dtype=tf.int32, name='input_masks')\n",
    "    bert_model = TFBertModel.from_pretrained(\"bert-base-uncased\")\n",
    "    seq_output, _ = bert_model(token_inputs, attention_mask=mask_inputs)\n",
    "    output = Dense(24, activation='softmax')(seq_output)\n",
    "    model = Model([token_inputs, mask_inputs], output)\n",
    "    return model"
   ]
  },
  {
   "cell_type": "markdown",
   "metadata": {
    "papermill": {
     "duration": 0.012801,
     "end_time": "2020-07-09T08:13:50.100356",
     "exception": false,
     "start_time": "2020-07-09T08:13:50.087555",
     "status": "completed"
    },
    "tags": []
   },
   "source": [
    "After defining the model, it is then instantiated by calling fe.build which also associates the model with a specific optimizer:"
   ]
  },
  {
   "cell_type": "code",
   "execution_count": 9,
   "metadata": {
    "execution": {
     "iopub.execute_input": "2020-07-09T08:13:50.129516Z",
     "iopub.status.busy": "2020-07-09T08:13:50.129189Z",
     "iopub.status.idle": "2020-07-09T08:17:35.423288Z",
     "shell.execute_reply": "2020-07-09T08:17:35.423003Z"
    },
    "papermill": {
     "duration": 225.310062,
     "end_time": "2020-07-09T08:17:35.423358",
     "exception": false,
     "start_time": "2020-07-09T08:13:50.113296",
     "status": "completed"
    },
    "tags": []
   },
   "outputs": [
    {
     "data": {
      "application/vnd.jupyter.widget-view+json": {
       "model_id": "866675dc520d452c867950c20c0d8c03",
       "version_major": 2,
       "version_minor": 0
      },
      "text/plain": [
       "HBox(children=(FloatProgress(value=0.0, description='Downloading', max=433.0, style=ProgressStyle(description_…"
      ]
     },
     "metadata": {},
     "output_type": "display_data"
    },
    {
     "name": "stdout",
     "output_type": "stream",
     "text": [
      "\n"
     ]
    },
    {
     "data": {
      "application/vnd.jupyter.widget-view+json": {
       "model_id": "6665adf0c6a24e18999161c512edbed2",
       "version_major": 2,
       "version_minor": 0
      },
      "text/plain": [
       "HBox(children=(FloatProgress(value=0.0, description='Downloading', max=536063208.0, style=ProgressStyle(descri…"
      ]
     },
     "metadata": {},
     "output_type": "display_data"
    },
    {
     "name": "stdout",
     "output_type": "stream",
     "text": [
      "\n"
     ]
    }
   ],
   "source": [
    "model = fe.build(model_fn=ner_model, optimizer_fn=lambda: tf.optimizers.Adam(1e-5))"
   ]
  },
  {
   "cell_type": "markdown",
   "metadata": {
    "papermill": {
     "duration": 0.013817,
     "end_time": "2020-07-09T08:17:35.451113",
     "exception": false,
     "start_time": "2020-07-09T08:17:35.437296",
     "status": "completed"
    },
    "tags": []
   },
   "source": [
    "`fe.Network` takes a series of operators. In this case we use a `ModelOp` to run forward passes through the neural network. The `ReshapeOp` is then used to transform the prediction and ground truth to a two dimensional vector or scalar respectively before feeding them to the loss calculation."
   ]
  },
  {
   "cell_type": "code",
   "execution_count": 10,
   "metadata": {
    "execution": {
     "iopub.execute_input": "2020-07-09T08:17:35.574814Z",
     "iopub.status.busy": "2020-07-09T08:17:35.574458Z",
     "iopub.status.idle": "2020-07-09T08:17:35.576201Z",
     "shell.execute_reply": "2020-07-09T08:17:35.575908Z"
    },
    "papermill": {
     "duration": 0.111523,
     "end_time": "2020-07-09T08:17:35.576274",
     "exception": false,
     "start_time": "2020-07-09T08:17:35.464751",
     "status": "completed"
    },
    "tags": []
   },
   "outputs": [],
   "source": [
    "network = fe.Network(ops=[\n",
    "        ModelOp(model=model, inputs=[\"x\", \"x_masks\"], outputs=\"y_pred\"),\n",
    "        Reshape(inputs=\"y\", outputs=\"y\", shape=(-1, )),\n",
    "        Reshape(inputs=\"y_pred\", outputs=\"y_pred\", shape=(-1, 24)),\n",
    "        CrossEntropy(inputs=(\"y_pred\", \"y\"), outputs=\"loss\"),\n",
    "        UpdateOp(model=model, loss_name=\"loss\")\n",
    "    ])"
   ]
  },
  {
   "cell_type": "markdown",
   "metadata": {
    "papermill": {
     "duration": 0.013729,
     "end_time": "2020-07-09T08:17:35.604015",
     "exception": false,
     "start_time": "2020-07-09T08:17:35.590286",
     "status": "completed"
    },
    "tags": []
   },
   "source": [
    "### Step 3: Prepare `Estimator` and configure the training loop"
   ]
  },
  {
   "cell_type": "markdown",
   "metadata": {
    "papermill": {
     "duration": 0.013859,
     "end_time": "2020-07-09T08:17:35.631733",
     "exception": false,
     "start_time": "2020-07-09T08:17:35.617874",
     "status": "completed"
    },
    "tags": []
   },
   "source": [
    "The `Estimator` takes four important arguments: network, pipeline, epochs, and traces. During the training, we want to compute accuracy as well as to save the model with the minimum loss. This can be done using `Traces`."
   ]
  },
  {
   "cell_type": "code",
   "execution_count": 11,
   "metadata": {
    "execution": {
     "iopub.execute_input": "2020-07-09T08:17:35.662894Z",
     "iopub.status.busy": "2020-07-09T08:17:35.662506Z",
     "iopub.status.idle": "2020-07-09T08:17:35.664166Z",
     "shell.execute_reply": "2020-07-09T08:17:35.663882Z"
    },
    "papermill": {
     "duration": 0.018552,
     "end_time": "2020-07-09T08:17:35.664228",
     "exception": false,
     "start_time": "2020-07-09T08:17:35.645676",
     "status": "completed"
    },
    "tags": []
   },
   "outputs": [],
   "source": [
    "traces = [Accuracy(true_key=\"y\", pred_key=\"y_pred\"), BestModelSaver(model=model, save_dir=save_dir)]"
   ]
  },
  {
   "cell_type": "code",
   "execution_count": 12,
   "metadata": {
    "execution": {
     "iopub.execute_input": "2020-07-09T08:17:35.696777Z",
     "iopub.status.busy": "2020-07-09T08:17:35.696425Z",
     "iopub.status.idle": "2020-07-09T08:17:35.698083Z",
     "shell.execute_reply": "2020-07-09T08:17:35.697818Z"
    },
    "papermill": {
     "duration": 0.019758,
     "end_time": "2020-07-09T08:17:35.698147",
     "exception": false,
     "start_time": "2020-07-09T08:17:35.678389",
     "status": "completed"
    },
    "tags": []
   },
   "outputs": [],
   "source": [
    "estimator = fe.Estimator(network=network,\n",
    "                         pipeline=pipeline,\n",
    "                         epochs=epochs,\n",
    "                         traces=traces, \n",
    "                         max_train_steps_per_epoch=max_train_steps_per_epoch,\n",
    "                         max_eval_steps_per_epoch=max_eval_steps_per_epoch)"
   ]
  },
  {
   "cell_type": "markdown",
   "metadata": {
    "papermill": {
     "duration": 0.013934,
     "end_time": "2020-07-09T08:17:35.726135",
     "exception": false,
     "start_time": "2020-07-09T08:17:35.712201",
     "status": "completed"
    },
    "tags": []
   },
   "source": [
    "<h2>Training</h2>"
   ]
  },
  {
   "cell_type": "code",
   "execution_count": 13,
   "metadata": {
    "execution": {
     "iopub.execute_input": "2020-07-09T08:17:35.756595Z",
     "iopub.status.busy": "2020-07-09T08:17:35.756259Z",
     "iopub.status.idle": "2020-07-09T08:18:03.234583Z",
     "shell.execute_reply": "2020-07-09T08:18:03.236265Z"
    },
    "papermill": {
     "duration": 27.496345,
     "end_time": "2020-07-09T08:18:03.236617",
     "exception": false,
     "start_time": "2020-07-09T08:17:35.740272",
     "status": "completed"
    },
    "tags": []
   },
   "outputs": [
    {
     "name": "stdout",
     "output_type": "stream",
     "text": [
      "    ______           __  ______     __  _                 __            \n",
      "   / ____/___ ______/ /_/ ____/____/ /_(_)___ ___  ____ _/ /_____  _____\n",
      "  / /_  / __ `/ ___/ __/ __/ / ___/ __/ / __ `__ \\/ __ `/ __/ __ \\/ ___/\n",
      " / __/ / /_/ (__  ) /_/ /___(__  ) /_/ / / / / / / /_/ / /_/ /_/ / /    \n",
      "/_/    \\__,_/____/\\__/_____/____/\\__/_/_/ /_/ /_/\\__,_/\\__/\\____/_/     \n",
      "                                                                        \n",
      "\n"
     ]
    },
    {
     "name": "stdout",
     "output_type": "stream",
     "text": [
      "FastEstimator-Start: step: 1; num_device: 0; logging_interval: 100; \n"
     ]
    },
    {
     "name": "stdout",
     "output_type": "stream",
     "text": [
      "WARNING:tensorflow:Gradients do not exist for variables ['tf_bert_model/bert/pooler/dense/kernel:0', 'tf_bert_model/bert/pooler/dense/bias:0'] when minimizing the loss.\n"
     ]
    },
    {
     "name": "stdout",
     "output_type": "stream",
     "text": [
      "FastEstimator-Train: step: 1; loss: 3.6633422; \n"
     ]
    },
    {
     "name": "stdout",
     "output_type": "stream",
     "text": [
      "FastEstimator-Train: step: 10; epoch: 1; epoch_time: 8.34 sec; \n"
     ]
    },
    {
     "name": "stdout",
     "output_type": "stream",
     "text": [
      "FastEstimator-BestModelSaver: Saved model to /tmp/tmpwhy7oicf/model_best_loss.h5\n",
      "FastEstimator-Eval: step: 10; epoch: 1; loss: 0.6115406; accuracy: 0.92625; since_best_loss: 0; min_loss: 0.6115406; \n"
     ]
    },
    {
     "name": "stdout",
     "output_type": "stream",
     "text": [
      "WARNING:tensorflow:Gradients do not exist for variables ['tf_bert_model/bert/pooler/dense/kernel:0', 'tf_bert_model/bert/pooler/dense/bias:0'] when minimizing the loss.\n"
     ]
    },
    {
     "name": "stdout",
     "output_type": "stream",
     "text": [
      "FastEstimator-Train: step: 20; epoch: 2; epoch_time: 8.02 sec; \n"
     ]
    },
    {
     "name": "stdout",
     "output_type": "stream",
     "text": [
      "FastEstimator-BestModelSaver: Saved model to /tmp/tmpwhy7oicf/model_best_loss.h5\n",
      "FastEstimator-Eval: step: 20; epoch: 2; loss: 0.5961059; accuracy: 0.92625; since_best_loss: 0; min_loss: 0.5961059; \n",
      "FastEstimator-Finish: step: 20; total_time: 22.81 sec; model_lr: 1e-05; \n"
     ]
    }
   ],
   "source": [
    "estimator.fit()"
   ]
  },
  {
   "cell_type": "markdown",
   "metadata": {
    "papermill": {
     "duration": 0.095678,
     "end_time": "2020-07-09T08:18:03.348490",
     "exception": false,
     "start_time": "2020-07-09T08:18:03.252812",
     "status": "completed"
    },
    "tags": []
   },
   "source": [
    "<h2>Inferencing</h2>"
   ]
  },
  {
   "cell_type": "markdown",
   "metadata": {
    "papermill": {
     "duration": 0.019328,
     "end_time": "2020-07-09T08:18:03.418034",
     "exception": false,
     "start_time": "2020-07-09T08:18:03.398706",
     "status": "completed"
    },
    "tags": []
   },
   "source": [
    "Load model weights using <i>fe.build</i>"
   ]
  },
  {
   "cell_type": "code",
   "execution_count": 14,
   "metadata": {
    "execution": {
     "iopub.execute_input": "2020-07-09T08:18:03.455971Z",
     "iopub.status.busy": "2020-07-09T08:18:03.455621Z",
     "iopub.status.idle": "2020-07-09T08:18:07.780662Z",
     "shell.execute_reply": "2020-07-09T08:18:07.780356Z"
    },
    "papermill": {
     "duration": 4.3471,
     "end_time": "2020-07-09T08:18:07.780728",
     "exception": false,
     "start_time": "2020-07-09T08:18:03.433628",
     "status": "completed"
    },
    "tags": []
   },
   "outputs": [],
   "source": [
    "model_name = 'model_best_loss.h5'\n",
    "model_path = os.path.join(save_dir, model_name)\n",
    "trained_model = fe.build(model_fn=ner_model, weights_path=model_path, optimizer_fn=lambda: tf.optimizers.Adam(1e-5))"
   ]
  },
  {
   "cell_type": "code",
   "execution_count": 15,
   "metadata": {
    "execution": {
     "iopub.execute_input": "2020-07-09T08:18:07.815448Z",
     "iopub.status.busy": "2020-07-09T08:18:07.815036Z",
     "iopub.status.idle": "2020-07-09T08:18:07.816613Z",
     "shell.execute_reply": "2020-07-09T08:18:07.816880Z"
    },
    "papermill": {
     "duration": 0.020563,
     "end_time": "2020-07-09T08:18:07.816949",
     "exception": false,
     "start_time": "2020-07-09T08:18:07.796386",
     "status": "completed"
    },
    "tags": []
   },
   "outputs": [
    {
     "name": "stdout",
     "output_type": "stream",
     "text": [
      "Ground truth is:  ['B-PER']\n"
     ]
    }
   ],
   "source": [
    "selected_idx = np.random.randint(1000)\n",
    "print(\"Ground truth is: \",eval_data[selected_idx]['y'])"
   ]
  },
  {
   "cell_type": "markdown",
   "metadata": {
    "papermill": {
     "duration": 0.016291,
     "end_time": "2020-07-09T08:18:07.849259",
     "exception": false,
     "start_time": "2020-07-09T08:18:07.832968",
     "status": "completed"
    },
    "tags": []
   },
   "source": [
    "Create a data dictionary for the inference. The `transform()` function in `Pipeline` and `Network` applies all their operations on the given data:"
   ]
  },
  {
   "cell_type": "code",
   "execution_count": 16,
   "metadata": {
    "execution": {
     "iopub.execute_input": "2020-07-09T08:18:07.884648Z",
     "iopub.status.busy": "2020-07-09T08:18:07.884137Z",
     "iopub.status.idle": "2020-07-09T08:18:08.822357Z",
     "shell.execute_reply": "2020-07-09T08:18:08.822631Z"
    },
    "papermill": {
     "duration": 0.957047,
     "end_time": "2020-07-09T08:18:08.822711",
     "exception": false,
     "start_time": "2020-07-09T08:18:07.865664",
     "status": "completed"
    },
    "tags": []
   },
   "outputs": [],
   "source": [
    "infer_data = {\"x\":eval_data[selected_idx]['x'], \"y\":eval_data[selected_idx]['y']}\n",
    "data = pipeline.transform(infer_data, mode=\"infer\")\n",
    "data = network.transform(data, mode=\"infer\")"
   ]
  },
  {
   "cell_type": "markdown",
   "metadata": {
    "papermill": {
     "duration": 0.015981,
     "end_time": "2020-07-09T08:18:08.854722",
     "exception": false,
     "start_time": "2020-07-09T08:18:08.838741",
     "status": "completed"
    },
    "tags": []
   },
   "source": [
    "Get the predictions using <i>feed_forward</i>"
   ]
  },
  {
   "cell_type": "code",
   "execution_count": 17,
   "metadata": {
    "execution": {
     "iopub.execute_input": "2020-07-09T08:18:08.892425Z",
     "iopub.status.busy": "2020-07-09T08:18:08.891795Z",
     "iopub.status.idle": "2020-07-09T08:18:09.000458Z",
     "shell.execute_reply": "2020-07-09T08:18:09.000122Z"
    },
    "papermill": {
     "duration": 0.129652,
     "end_time": "2020-07-09T08:18:09.000528",
     "exception": false,
     "start_time": "2020-07-09T08:18:08.870876",
     "status": "completed"
    },
    "tags": []
   },
   "outputs": [],
   "source": [
    "predictions = feed_forward(trained_model, [data[\"x\"],data[\"x_masks\"]], training=False)\n",
    "predictions = np.array(predictions).reshape(20,24)\n",
    "predictions = np.argmax(predictions, axis=-1)"
   ]
  },
  {
   "cell_type": "code",
   "execution_count": 18,
   "metadata": {
    "execution": {
     "iopub.execute_input": "2020-07-09T08:18:09.035463Z",
     "iopub.status.busy": "2020-07-09T08:18:09.035136Z",
     "iopub.status.idle": "2020-07-09T08:18:09.036534Z",
     "shell.execute_reply": "2020-07-09T08:18:09.036797Z"
    },
    "papermill": {
     "duration": 0.019783,
     "end_time": "2020-07-09T08:18:09.036866",
     "exception": false,
     "start_time": "2020-07-09T08:18:09.017083",
     "status": "completed"
    },
    "tags": []
   },
   "outputs": [],
   "source": [
    "def get_key(val): \n",
    "    for key, value in tag2idx.items(): \n",
    "         if val == value: \n",
    "            return key "
   ]
  },
  {
   "cell_type": "code",
   "execution_count": 19,
   "metadata": {
    "execution": {
     "iopub.execute_input": "2020-07-09T08:18:09.071965Z",
     "iopub.status.busy": "2020-07-09T08:18:09.071639Z",
     "iopub.status.idle": "2020-07-09T08:18:09.073544Z",
     "shell.execute_reply": "2020-07-09T08:18:09.073222Z"
    },
    "papermill": {
     "duration": 0.020729,
     "end_time": "2020-07-09T08:18:09.073604",
     "exception": false,
     "start_time": "2020-07-09T08:18:09.052875",
     "status": "completed"
    },
    "tags": []
   },
   "outputs": [
    {
     "name": "stdout",
     "output_type": "stream",
     "text": [
      "Predictions:  [None, None, None, None, None, None, None, None, None, None, None, None, None, None, None, None, None, None, None, None]\n"
     ]
    }
   ],
   "source": [
    "print(\"Predictions: \", [get_key(pred) for pred in predictions])"
   ]
  }
 ],
 "metadata": {
  "celltoolbar": "Tags",
  "kernelspec": {
   "display_name": "Python 3",
   "language": "python",
   "name": "python3"
  },
  "language_info": {
   "codemirror_mode": {
    "name": "ipython",
    "version": 3
   },
   "file_extension": ".py",
   "mimetype": "text/x-python",
   "name": "python",
   "nbconvert_exporter": "python",
   "pygments_lexer": "ipython3",
   "version": "3.6.10"
  },
  "papermill": {
   "duration": 269.126904,
   "end_time": "2020-07-09T08:18:10.922080",
   "environment_variables": {},
   "exception": null,
   "input_path": "/home/geez219/python_project/fastestimator/apphub/NLP/named_entity_recognition/bert.ipynb",
   "output_path": "/home/geez219/python_project/fastestimator/test/apphub_scripts/NLP/named_entity_recognition/bert_out.ipynb",
   "parameters": {
    "batch_size": 4,
    "epochs": 2,
    "max_eval_steps_per_epoch": 10,
    "max_train_steps_per_epoch": 10
   },
   "start_time": "2020-07-09T08:13:41.795176",
   "version": "2.1.1"
  },
  "widgets": {
   "application/vnd.jupyter.widget-state+json": {
    "state": {
     "14b82088852a4423ab25e1613267264e": {
      "model_module": "@jupyter-widgets/base",
      "model_module_version": "1.2.0",
      "model_name": "LayoutModel",
      "state": {
       "_model_module": "@jupyter-widgets/base",
       "_model_module_version": "1.2.0",
       "_model_name": "LayoutModel",
       "_view_count": null,
       "_view_module": "@jupyter-widgets/base",
       "_view_module_version": "1.2.0",
       "_view_name": "LayoutView",
       "align_content": null,
       "align_items": null,
       "align_self": null,
       "border": null,
       "bottom": null,
       "display": null,
       "flex": null,
       "flex_flow": null,
       "grid_area": null,
       "grid_auto_columns": null,
       "grid_auto_flow": null,
       "grid_auto_rows": null,
       "grid_column": null,
       "grid_gap": null,
       "grid_row": null,
       "grid_template_areas": null,
       "grid_template_columns": null,
       "grid_template_rows": null,
       "height": null,
       "justify_content": null,
       "justify_items": null,
       "left": null,
       "margin": null,
       "max_height": null,
       "max_width": null,
       "min_height": null,
       "min_width": null,
       "object_fit": null,
       "object_position": null,
       "order": null,
       "overflow": null,
       "overflow_x": null,
       "overflow_y": null,
       "padding": null,
       "right": null,
       "top": null,
       "visibility": null,
       "width": null
      }
     },
     "2a7dd7858b8f4c429336ac8ce9073364": {
      "model_module": "@jupyter-widgets/controls",
      "model_module_version": "1.5.0",
      "model_name": "FloatProgressModel",
      "state": {
       "_dom_classes": [],
       "_model_module": "@jupyter-widgets/controls",
       "_model_module_version": "1.5.0",
       "_model_name": "FloatProgressModel",
       "_view_count": null,
       "_view_module": "@jupyter-widgets/controls",
       "_view_module_version": "1.5.0",
       "_view_name": "ProgressView",
       "bar_style": "success",
       "description": "Downloading: 100%",
       "description_tooltip": null,
       "layout": "IPY_MODEL_852537fd835647cd8019b9d8341c0b1a",
       "max": 536063208.0,
       "min": 0.0,
       "orientation": "horizontal",
       "style": "IPY_MODEL_585649ee5cda4c51a4f9da4c43bc6a43",
       "value": 536063208.0
      }
     },
     "34cd9700125044118a9f438654bf754f": {
      "model_module": "@jupyter-widgets/controls",
      "model_module_version": "1.5.0",
      "model_name": "HTMLModel",
      "state": {
       "_dom_classes": [],
       "_model_module": "@jupyter-widgets/controls",
       "_model_module_version": "1.5.0",
       "_model_name": "HTMLModel",
       "_view_count": null,
       "_view_module": "@jupyter-widgets/controls",
       "_view_module_version": "1.5.0",
       "_view_name": "HTMLView",
       "description": "",
       "description_tooltip": null,
       "layout": "IPY_MODEL_fc94b026727b4333b1fdccb7f948f659",
       "placeholder": "​",
       "style": "IPY_MODEL_a3f6da586988471495d8f67293ce87b3",
       "value": " 232k/232k [00:00&lt;00:00, 738kB/s]"
      }
     },
     "372c73121954433fb60cfa4a4491ccca": {
      "model_module": "@jupyter-widgets/controls",
      "model_module_version": "1.5.0",
      "model_name": "ProgressStyleModel",
      "state": {
       "_model_module": "@jupyter-widgets/controls",
       "_model_module_version": "1.5.0",
       "_model_name": "ProgressStyleModel",
       "_view_count": null,
       "_view_module": "@jupyter-widgets/base",
       "_view_module_version": "1.2.0",
       "_view_name": "StyleView",
       "bar_color": null,
       "description_width": "initial"
      }
     },
     "46f2aafd0fc349d7bb6d19a3e1ca292d": {
      "model_module": "@jupyter-widgets/controls",
      "model_module_version": "1.5.0",
      "model_name": "ProgressStyleModel",
      "state": {
       "_model_module": "@jupyter-widgets/controls",
       "_model_module_version": "1.5.0",
       "_model_name": "ProgressStyleModel",
       "_view_count": null,
       "_view_module": "@jupyter-widgets/base",
       "_view_module_version": "1.2.0",
       "_view_name": "StyleView",
       "bar_color": null,
       "description_width": "initial"
      }
     },
     "585649ee5cda4c51a4f9da4c43bc6a43": {
      "model_module": "@jupyter-widgets/controls",
      "model_module_version": "1.5.0",
      "model_name": "ProgressStyleModel",
      "state": {
       "_model_module": "@jupyter-widgets/controls",
       "_model_module_version": "1.5.0",
       "_model_name": "ProgressStyleModel",
       "_view_count": null,
       "_view_module": "@jupyter-widgets/base",
       "_view_module_version": "1.2.0",
       "_view_name": "StyleView",
       "bar_color": null,
       "description_width": "initial"
      }
     },
     "6665adf0c6a24e18999161c512edbed2": {
      "model_module": "@jupyter-widgets/controls",
      "model_module_version": "1.5.0",
      "model_name": "HBoxModel",
      "state": {
       "_dom_classes": [],
       "_model_module": "@jupyter-widgets/controls",
       "_model_module_version": "1.5.0",
       "_model_name": "HBoxModel",
       "_view_count": null,
       "_view_module": "@jupyter-widgets/controls",
       "_view_module_version": "1.5.0",
       "_view_name": "HBoxView",
       "box_style": "",
       "children": [
        "IPY_MODEL_2a7dd7858b8f4c429336ac8ce9073364",
        "IPY_MODEL_7e675dde93da4e64bcb4731bd9fdfc07"
       ],
       "layout": "IPY_MODEL_6fa69dea82eb45d4bb319a478cee7eaf"
      }
     },
     "6745d52c6ffd43e0b82aa9123bba8073": {
      "model_module": "@jupyter-widgets/base",
      "model_module_version": "1.2.0",
      "model_name": "LayoutModel",
      "state": {
       "_model_module": "@jupyter-widgets/base",
       "_model_module_version": "1.2.0",
       "_model_name": "LayoutModel",
       "_view_count": null,
       "_view_module": "@jupyter-widgets/base",
       "_view_module_version": "1.2.0",
       "_view_name": "LayoutView",
       "align_content": null,
       "align_items": null,
       "align_self": null,
       "border": null,
       "bottom": null,
       "display": null,
       "flex": null,
       "flex_flow": null,
       "grid_area": null,
       "grid_auto_columns": null,
       "grid_auto_flow": null,
       "grid_auto_rows": null,
       "grid_column": null,
       "grid_gap": null,
       "grid_row": null,
       "grid_template_areas": null,
       "grid_template_columns": null,
       "grid_template_rows": null,
       "height": null,
       "justify_content": null,
       "justify_items": null,
       "left": null,
       "margin": null,
       "max_height": null,
       "max_width": null,
       "min_height": null,
       "min_width": null,
       "object_fit": null,
       "object_position": null,
       "order": null,
       "overflow": null,
       "overflow_x": null,
       "overflow_y": null,
       "padding": null,
       "right": null,
       "top": null,
       "visibility": null,
       "width": null
      }
     },
     "6fa69dea82eb45d4bb319a478cee7eaf": {
      "model_module": "@jupyter-widgets/base",
      "model_module_version": "1.2.0",
      "model_name": "LayoutModel",
      "state": {
       "_model_module": "@jupyter-widgets/base",
       "_model_module_version": "1.2.0",
       "_model_name": "LayoutModel",
       "_view_count": null,
       "_view_module": "@jupyter-widgets/base",
       "_view_module_version": "1.2.0",
       "_view_name": "LayoutView",
       "align_content": null,
       "align_items": null,
       "align_self": null,
       "border": null,
       "bottom": null,
       "display": null,
       "flex": null,
       "flex_flow": null,
       "grid_area": null,
       "grid_auto_columns": null,
       "grid_auto_flow": null,
       "grid_auto_rows": null,
       "grid_column": null,
       "grid_gap": null,
       "grid_row": null,
       "grid_template_areas": null,
       "grid_template_columns": null,
       "grid_template_rows": null,
       "height": null,
       "justify_content": null,
       "justify_items": null,
       "left": null,
       "margin": null,
       "max_height": null,
       "max_width": null,
       "min_height": null,
       "min_width": null,
       "object_fit": null,
       "object_position": null,
       "order": null,
       "overflow": null,
       "overflow_x": null,
       "overflow_y": null,
       "padding": null,
       "right": null,
       "top": null,
       "visibility": null,
       "width": null
      }
     },
     "7e675dde93da4e64bcb4731bd9fdfc07": {
      "model_module": "@jupyter-widgets/controls",
      "model_module_version": "1.5.0",
      "model_name": "HTMLModel",
      "state": {
       "_dom_classes": [],
       "_model_module": "@jupyter-widgets/controls",
       "_model_module_version": "1.5.0",
       "_model_name": "HTMLModel",
       "_view_count": null,
       "_view_module": "@jupyter-widgets/controls",
       "_view_module_version": "1.5.0",
       "_view_name": "HTMLView",
       "description": "",
       "description_tooltip": null,
       "layout": "IPY_MODEL_6745d52c6ffd43e0b82aa9123bba8073",
       "placeholder": "​",
       "style": "IPY_MODEL_fe440c8b03db4d968b2d58a4abc1ca0e",
       "value": " 536M/536M [03:39&lt;00:00, 2.44MB/s]"
      }
     },
     "852537fd835647cd8019b9d8341c0b1a": {
      "model_module": "@jupyter-widgets/base",
      "model_module_version": "1.2.0",
      "model_name": "LayoutModel",
      "state": {
       "_model_module": "@jupyter-widgets/base",
       "_model_module_version": "1.2.0",
       "_model_name": "LayoutModel",
       "_view_count": null,
       "_view_module": "@jupyter-widgets/base",
       "_view_module_version": "1.2.0",
       "_view_name": "LayoutView",
       "align_content": null,
       "align_items": null,
       "align_self": null,
       "border": null,
       "bottom": null,
       "display": null,
       "flex": null,
       "flex_flow": null,
       "grid_area": null,
       "grid_auto_columns": null,
       "grid_auto_flow": null,
       "grid_auto_rows": null,
       "grid_column": null,
       "grid_gap": null,
       "grid_row": null,
       "grid_template_areas": null,
       "grid_template_columns": null,
       "grid_template_rows": null,
       "height": null,
       "justify_content": null,
       "justify_items": null,
       "left": null,
       "margin": null,
       "max_height": null,
       "max_width": null,
       "min_height": null,
       "min_width": null,
       "object_fit": null,
       "object_position": null,
       "order": null,
       "overflow": null,
       "overflow_x": null,
       "overflow_y": null,
       "padding": null,
       "right": null,
       "top": null,
       "visibility": null,
       "width": null
      }
     },
     "866675dc520d452c867950c20c0d8c03": {
      "model_module": "@jupyter-widgets/controls",
      "model_module_version": "1.5.0",
      "model_name": "HBoxModel",
      "state": {
       "_dom_classes": [],
       "_model_module": "@jupyter-widgets/controls",
       "_model_module_version": "1.5.0",
       "_model_name": "HBoxModel",
       "_view_count": null,
       "_view_module": "@jupyter-widgets/controls",
       "_view_module_version": "1.5.0",
       "_view_name": "HBoxView",
       "box_style": "",
       "children": [
        "IPY_MODEL_bfbbd4a50c2c4421b3cbef7e7aaa502c",
        "IPY_MODEL_acdce446dc4748789c74dc9208335dc6"
       ],
       "layout": "IPY_MODEL_b1952b23cece47c78a89d5a0b4763319"
      }
     },
     "921f11379bcc445e90a43d5e99e8bc97": {
      "model_module": "@jupyter-widgets/controls",
      "model_module_version": "1.5.0",
      "model_name": "FloatProgressModel",
      "state": {
       "_dom_classes": [],
       "_model_module": "@jupyter-widgets/controls",
       "_model_module_version": "1.5.0",
       "_model_name": "FloatProgressModel",
       "_view_count": null,
       "_view_module": "@jupyter-widgets/controls",
       "_view_module_version": "1.5.0",
       "_view_name": "ProgressView",
       "bar_style": "success",
       "description": "Downloading: 100%",
       "description_tooltip": null,
       "layout": "IPY_MODEL_14b82088852a4423ab25e1613267264e",
       "max": 231508.0,
       "min": 0.0,
       "orientation": "horizontal",
       "style": "IPY_MODEL_46f2aafd0fc349d7bb6d19a3e1ca292d",
       "value": 231508.0
      }
     },
     "a3f6da586988471495d8f67293ce87b3": {
      "model_module": "@jupyter-widgets/controls",
      "model_module_version": "1.5.0",
      "model_name": "DescriptionStyleModel",
      "state": {
       "_model_module": "@jupyter-widgets/controls",
       "_model_module_version": "1.5.0",
       "_model_name": "DescriptionStyleModel",
       "_view_count": null,
       "_view_module": "@jupyter-widgets/base",
       "_view_module_version": "1.2.0",
       "_view_name": "StyleView",
       "description_width": ""
      }
     },
     "acdce446dc4748789c74dc9208335dc6": {
      "model_module": "@jupyter-widgets/controls",
      "model_module_version": "1.5.0",
      "model_name": "HTMLModel",
      "state": {
       "_dom_classes": [],
       "_model_module": "@jupyter-widgets/controls",
       "_model_module_version": "1.5.0",
       "_model_name": "HTMLModel",
       "_view_count": null,
       "_view_module": "@jupyter-widgets/controls",
       "_view_module_version": "1.5.0",
       "_view_name": "HTMLView",
       "description": "",
       "description_tooltip": null,
       "layout": "IPY_MODEL_f5e85a41f5c2450ba6ab9c5115d89fdf",
       "placeholder": "​",
       "style": "IPY_MODEL_b79e3ae03e874f9db34bbb729e450f7d",
       "value": " 433/433 [00:00&lt;00:00, 910B/s]"
      }
     },
     "b1952b23cece47c78a89d5a0b4763319": {
      "model_module": "@jupyter-widgets/base",
      "model_module_version": "1.2.0",
      "model_name": "LayoutModel",
      "state": {
       "_model_module": "@jupyter-widgets/base",
       "_model_module_version": "1.2.0",
       "_model_name": "LayoutModel",
       "_view_count": null,
       "_view_module": "@jupyter-widgets/base",
       "_view_module_version": "1.2.0",
       "_view_name": "LayoutView",
       "align_content": null,
       "align_items": null,
       "align_self": null,
       "border": null,
       "bottom": null,
       "display": null,
       "flex": null,
       "flex_flow": null,
       "grid_area": null,
       "grid_auto_columns": null,
       "grid_auto_flow": null,
       "grid_auto_rows": null,
       "grid_column": null,
       "grid_gap": null,
       "grid_row": null,
       "grid_template_areas": null,
       "grid_template_columns": null,
       "grid_template_rows": null,
       "height": null,
       "justify_content": null,
       "justify_items": null,
       "left": null,
       "margin": null,
       "max_height": null,
       "max_width": null,
       "min_height": null,
       "min_width": null,
       "object_fit": null,
       "object_position": null,
       "order": null,
       "overflow": null,
       "overflow_x": null,
       "overflow_y": null,
       "padding": null,
       "right": null,
       "top": null,
       "visibility": null,
       "width": null
      }
     },
     "b79e3ae03e874f9db34bbb729e450f7d": {
      "model_module": "@jupyter-widgets/controls",
      "model_module_version": "1.5.0",
      "model_name": "DescriptionStyleModel",
      "state": {
       "_model_module": "@jupyter-widgets/controls",
       "_model_module_version": "1.5.0",
       "_model_name": "DescriptionStyleModel",
       "_view_count": null,
       "_view_module": "@jupyter-widgets/base",
       "_view_module_version": "1.2.0",
       "_view_name": "StyleView",
       "description_width": ""
      }
     },
     "bfbbd4a50c2c4421b3cbef7e7aaa502c": {
      "model_module": "@jupyter-widgets/controls",
      "model_module_version": "1.5.0",
      "model_name": "FloatProgressModel",
      "state": {
       "_dom_classes": [],
       "_model_module": "@jupyter-widgets/controls",
       "_model_module_version": "1.5.0",
       "_model_name": "FloatProgressModel",
       "_view_count": null,
       "_view_module": "@jupyter-widgets/controls",
       "_view_module_version": "1.5.0",
       "_view_name": "ProgressView",
       "bar_style": "success",
       "description": "Downloading: 100%",
       "description_tooltip": null,
       "layout": "IPY_MODEL_c703794a1a394f46b8db170143301783",
       "max": 433.0,
       "min": 0.0,
       "orientation": "horizontal",
       "style": "IPY_MODEL_372c73121954433fb60cfa4a4491ccca",
       "value": 433.0
      }
     },
     "c703794a1a394f46b8db170143301783": {
      "model_module": "@jupyter-widgets/base",
      "model_module_version": "1.2.0",
      "model_name": "LayoutModel",
      "state": {
       "_model_module": "@jupyter-widgets/base",
       "_model_module_version": "1.2.0",
       "_model_name": "LayoutModel",
       "_view_count": null,
       "_view_module": "@jupyter-widgets/base",
       "_view_module_version": "1.2.0",
       "_view_name": "LayoutView",
       "align_content": null,
       "align_items": null,
       "align_self": null,
       "border": null,
       "bottom": null,
       "display": null,
       "flex": null,
       "flex_flow": null,
       "grid_area": null,
       "grid_auto_columns": null,
       "grid_auto_flow": null,
       "grid_auto_rows": null,
       "grid_column": null,
       "grid_gap": null,
       "grid_row": null,
       "grid_template_areas": null,
       "grid_template_columns": null,
       "grid_template_rows": null,
       "height": null,
       "justify_content": null,
       "justify_items": null,
       "left": null,
       "margin": null,
       "max_height": null,
       "max_width": null,
       "min_height": null,
       "min_width": null,
       "object_fit": null,
       "object_position": null,
       "order": null,
       "overflow": null,
       "overflow_x": null,
       "overflow_y": null,
       "padding": null,
       "right": null,
       "top": null,
       "visibility": null,
       "width": null
      }
     },
     "eca78b6d21ff4a64a183d6166f61da3c": {
      "model_module": "@jupyter-widgets/controls",
      "model_module_version": "1.5.0",
      "model_name": "HBoxModel",
      "state": {
       "_dom_classes": [],
       "_model_module": "@jupyter-widgets/controls",
       "_model_module_version": "1.5.0",
       "_model_name": "HBoxModel",
       "_view_count": null,
       "_view_module": "@jupyter-widgets/controls",
       "_view_module_version": "1.5.0",
       "_view_name": "HBoxView",
       "box_style": "",
       "children": [
        "IPY_MODEL_921f11379bcc445e90a43d5e99e8bc97",
        "IPY_MODEL_34cd9700125044118a9f438654bf754f"
       ],
       "layout": "IPY_MODEL_fbd6c7a959d146e18e521a76c3bf5a49"
      }
     },
     "f5e85a41f5c2450ba6ab9c5115d89fdf": {
      "model_module": "@jupyter-widgets/base",
      "model_module_version": "1.2.0",
      "model_name": "LayoutModel",
      "state": {
       "_model_module": "@jupyter-widgets/base",
       "_model_module_version": "1.2.0",
       "_model_name": "LayoutModel",
       "_view_count": null,
       "_view_module": "@jupyter-widgets/base",
       "_view_module_version": "1.2.0",
       "_view_name": "LayoutView",
       "align_content": null,
       "align_items": null,
       "align_self": null,
       "border": null,
       "bottom": null,
       "display": null,
       "flex": null,
       "flex_flow": null,
       "grid_area": null,
       "grid_auto_columns": null,
       "grid_auto_flow": null,
       "grid_auto_rows": null,
       "grid_column": null,
       "grid_gap": null,
       "grid_row": null,
       "grid_template_areas": null,
       "grid_template_columns": null,
       "grid_template_rows": null,
       "height": null,
       "justify_content": null,
       "justify_items": null,
       "left": null,
       "margin": null,
       "max_height": null,
       "max_width": null,
       "min_height": null,
       "min_width": null,
       "object_fit": null,
       "object_position": null,
       "order": null,
       "overflow": null,
       "overflow_x": null,
       "overflow_y": null,
       "padding": null,
       "right": null,
       "top": null,
       "visibility": null,
       "width": null
      }
     },
     "fbd6c7a959d146e18e521a76c3bf5a49": {
      "model_module": "@jupyter-widgets/base",
      "model_module_version": "1.2.0",
      "model_name": "LayoutModel",
      "state": {
       "_model_module": "@jupyter-widgets/base",
       "_model_module_version": "1.2.0",
       "_model_name": "LayoutModel",
       "_view_count": null,
       "_view_module": "@jupyter-widgets/base",
       "_view_module_version": "1.2.0",
       "_view_name": "LayoutView",
       "align_content": null,
       "align_items": null,
       "align_self": null,
       "border": null,
       "bottom": null,
       "display": null,
       "flex": null,
       "flex_flow": null,
       "grid_area": null,
       "grid_auto_columns": null,
       "grid_auto_flow": null,
       "grid_auto_rows": null,
       "grid_column": null,
       "grid_gap": null,
       "grid_row": null,
       "grid_template_areas": null,
       "grid_template_columns": null,
       "grid_template_rows": null,
       "height": null,
       "justify_content": null,
       "justify_items": null,
       "left": null,
       "margin": null,
       "max_height": null,
       "max_width": null,
       "min_height": null,
       "min_width": null,
       "object_fit": null,
       "object_position": null,
       "order": null,
       "overflow": null,
       "overflow_x": null,
       "overflow_y": null,
       "padding": null,
       "right": null,
       "top": null,
       "visibility": null,
       "width": null
      }
     },
     "fc94b026727b4333b1fdccb7f948f659": {
      "model_module": "@jupyter-widgets/base",
      "model_module_version": "1.2.0",
      "model_name": "LayoutModel",
      "state": {
       "_model_module": "@jupyter-widgets/base",
       "_model_module_version": "1.2.0",
       "_model_name": "LayoutModel",
       "_view_count": null,
       "_view_module": "@jupyter-widgets/base",
       "_view_module_version": "1.2.0",
       "_view_name": "LayoutView",
       "align_content": null,
       "align_items": null,
       "align_self": null,
       "border": null,
       "bottom": null,
       "display": null,
       "flex": null,
       "flex_flow": null,
       "grid_area": null,
       "grid_auto_columns": null,
       "grid_auto_flow": null,
       "grid_auto_rows": null,
       "grid_column": null,
       "grid_gap": null,
       "grid_row": null,
       "grid_template_areas": null,
       "grid_template_columns": null,
       "grid_template_rows": null,
       "height": null,
       "justify_content": null,
       "justify_items": null,
       "left": null,
       "margin": null,
       "max_height": null,
       "max_width": null,
       "min_height": null,
       "min_width": null,
       "object_fit": null,
       "object_position": null,
       "order": null,
       "overflow": null,
       "overflow_x": null,
       "overflow_y": null,
       "padding": null,
       "right": null,
       "top": null,
       "visibility": null,
       "width": null
      }
     },
     "fe440c8b03db4d968b2d58a4abc1ca0e": {
      "model_module": "@jupyter-widgets/controls",
      "model_module_version": "1.5.0",
      "model_name": "DescriptionStyleModel",
      "state": {
       "_model_module": "@jupyter-widgets/controls",
       "_model_module_version": "1.5.0",
       "_model_name": "DescriptionStyleModel",
       "_view_count": null,
       "_view_module": "@jupyter-widgets/base",
       "_view_module_version": "1.2.0",
       "_view_name": "StyleView",
       "description_width": ""
      }
     }
    },
    "version_major": 2,
    "version_minor": 0
   }
  }
 },
 "nbformat": 4,
 "nbformat_minor": 4
}