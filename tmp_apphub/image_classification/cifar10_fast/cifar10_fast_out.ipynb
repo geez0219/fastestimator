{
 "cells": [
  {
   "cell_type": "markdown",
   "metadata": {
    "papermill": {
     "duration": 0.011683,
     "end_time": "2020-07-09T14:38:38.622274",
     "exception": false,
     "start_time": "2020-07-09T14:38:38.610591",
     "status": "completed"
    },
    "tags": []
   },
   "source": [
    "# CIFAR-10 Image Classification Using ResNet (PyTorch Backend)\n",
    "In this example we are going to demonstrate how to train a CIFAR-10 image classification model using a ResNet architecture on the PyTorch backend. All training details including model structure, data preprocessing, learning rate control, etc. come from https://github.com/davidcpage/cifar10-fast."
   ]
  },
  {
   "cell_type": "markdown",
   "metadata": {
    "papermill": {
     "duration": 0.006428,
     "end_time": "2020-07-09T14:38:38.635959",
     "exception": false,
     "start_time": "2020-07-09T14:38:38.629531",
     "status": "completed"
    },
    "tags": []
   },
   "source": [
    "## Import the required libraries"
   ]
  },
  {
   "cell_type": "code",
   "execution_count": 1,
   "metadata": {
    "execution": {
     "iopub.execute_input": "2020-07-09T14:38:38.651100Z",
     "iopub.status.busy": "2020-07-09T14:38:38.650768Z",
     "iopub.status.idle": "2020-07-09T14:38:41.036149Z",
     "shell.execute_reply": "2020-07-09T14:38:41.035789Z"
    },
    "papermill": {
     "duration": 2.394035,
     "end_time": "2020-07-09T14:38:41.036217",
     "exception": false,
     "start_time": "2020-07-09T14:38:38.642182",
     "status": "completed"
    },
    "tags": []
   },
   "outputs": [],
   "source": [
    "import fastestimator as fe\n",
    "import numpy as np\n",
    "import matplotlib.pyplot as plt\n",
    "import tempfile"
   ]
  },
  {
   "cell_type": "code",
   "execution_count": 2,
   "metadata": {
    "execution": {
     "iopub.execute_input": "2020-07-09T14:38:41.055165Z",
     "iopub.status.busy": "2020-07-09T14:38:41.054785Z",
     "iopub.status.idle": "2020-07-09T14:38:41.056212Z",
     "shell.execute_reply": "2020-07-09T14:38:41.056470Z"
    },
    "papermill": {
     "duration": 0.013596,
     "end_time": "2020-07-09T14:38:41.056535",
     "exception": false,
     "start_time": "2020-07-09T14:38:41.042939",
     "status": "completed"
    },
    "tags": [
     "parameters"
    ]
   },
   "outputs": [],
   "source": [
    "#training parameters\n",
    "epochs = 24\n",
    "batch_size = 512\n",
    "max_train_steps_per_epoch = None\n",
    "max_eval_steps_per_epoch = None\n",
    "save_dir = tempfile.mkdtemp()"
   ]
  },
  {
   "cell_type": "code",
   "execution_count": 3,
   "metadata": {
    "execution": {
     "iopub.execute_input": "2020-07-09T14:38:41.072580Z",
     "iopub.status.busy": "2020-07-09T14:38:41.072228Z",
     "iopub.status.idle": "2020-07-09T14:38:41.073910Z",
     "shell.execute_reply": "2020-07-09T14:38:41.073615Z"
    },
    "papermill": {
     "duration": 0.011069,
     "end_time": "2020-07-09T14:38:41.073967",
     "exception": false,
     "start_time": "2020-07-09T14:38:41.062898",
     "status": "completed"
    },
    "tags": [
     "injected-parameters"
    ]
   },
   "outputs": [],
   "source": [
    "# Parameters\n",
    "epochs = 2\n",
    "batch_size = 8\n",
    "max_train_steps_per_epoch = 10\n",
    "max_eval_steps_per_epoch = 10\n"
   ]
  },
  {
   "cell_type": "markdown",
   "metadata": {
    "papermill": {
     "duration": 0.006496,
     "end_time": "2020-07-09T14:38:41.087669",
     "exception": false,
     "start_time": "2020-07-09T14:38:41.081173",
     "status": "completed"
    },
    "tags": []
   },
   "source": [
    "## Step 1 - Data and `Pipeline` preparation\n",
    "In this step, we will load CIFAR-10 training and validation datasets and prepare FastEstimator's pipeline.\n",
    "\n",
    "### Load dataset \n",
    "We use a FastEstimator API to load the CIFAR-10 dataset and then get a test set by splitting 50% of the data off of the evaluation set. "
   ]
  },
  {
   "cell_type": "code",
   "execution_count": 4,
   "metadata": {
    "execution": {
     "iopub.execute_input": "2020-07-09T14:38:41.103244Z",
     "iopub.status.busy": "2020-07-09T14:38:41.102899Z",
     "iopub.status.idle": "2020-07-09T14:38:41.654984Z",
     "shell.execute_reply": "2020-07-09T14:38:41.654647Z"
    },
    "papermill": {
     "duration": 0.560745,
     "end_time": "2020-07-09T14:38:41.655049",
     "exception": false,
     "start_time": "2020-07-09T14:38:41.094304",
     "status": "completed"
    },
    "tags": []
   },
   "outputs": [],
   "source": [
    "from fastestimator.dataset.data import cifar10\n",
    "\n",
    "train_data, eval_data = cifar10.load_data()\n",
    "test_data = eval_data.split(0.5)"
   ]
  },
  {
   "cell_type": "markdown",
   "metadata": {
    "papermill": {
     "duration": 0.006882,
     "end_time": "2020-07-09T14:38:41.668648",
     "exception": false,
     "start_time": "2020-07-09T14:38:41.661766",
     "status": "completed"
    },
    "tags": []
   },
   "source": [
    "### Set up a pre-processing `Pipeline`\n",
    "Here we set up the data pipeline. This will involve a variety of data augmentation including: random cropping, horizontal flipping, image obscuration, and smoothed one-hot label encoding. Beside all of this, the image channels need to be transposed from HWC to CHW format due to PyTorch conventions. We set up these processing steps using `Ops` and also bundle the data sources and batch_size together into our `Pipeline`."
   ]
  },
  {
   "cell_type": "code",
   "execution_count": 5,
   "metadata": {
    "execution": {
     "iopub.execute_input": "2020-07-09T14:38:41.692358Z",
     "iopub.status.busy": "2020-07-09T14:38:41.688557Z",
     "iopub.status.idle": "2020-07-09T14:38:41.694051Z",
     "shell.execute_reply": "2020-07-09T14:38:41.693730Z"
    },
    "papermill": {
     "duration": 0.018454,
     "end_time": "2020-07-09T14:38:41.694111",
     "exception": false,
     "start_time": "2020-07-09T14:38:41.675657",
     "status": "completed"
    },
    "tags": []
   },
   "outputs": [],
   "source": [
    "from fastestimator.op.numpyop.univariate import ChannelTranspose, CoarseDropout, Normalize, Onehot\n",
    "from fastestimator.op.numpyop.meta import Sometimes\n",
    "from fastestimator.op.numpyop.multivariate import HorizontalFlip, PadIfNeeded, RandomCrop\n",
    "\n",
    "pipeline = fe.Pipeline(\n",
    "    train_data=train_data,\n",
    "    eval_data=eval_data,\n",
    "    test_data=test_data,\n",
    "    batch_size=batch_size,\n",
    "    ops=[\n",
    "        Normalize(inputs=\"x\", outputs=\"x_out\", mean=(0.4914, 0.4822, 0.4465), std=(0.2471, 0.2435, 0.2616)),\n",
    "        PadIfNeeded(min_height=40, min_width=40, image_in=\"x_out\", image_out=\"x_out\", mode=\"train\"),\n",
    "        RandomCrop(32, 32, image_in=\"x_out\", image_out=\"x_out\", mode=\"train\"),\n",
    "        Sometimes(HorizontalFlip(image_in=\"x_out\", image_out=\"x_out\", mode=\"train\")),\n",
    "        CoarseDropout(inputs=\"x_out\", outputs=\"x_out\", mode=\"train\", max_holes=1),\n",
    "        ChannelTranspose(inputs=\"x_out\", outputs=\"x_out\"),\n",
    "        Onehot(inputs=\"y\", outputs=\"y_out\", mode=\"train\", num_classes=10, label_smoothing=0.2)\n",
    "    ])"
   ]
  },
  {
   "cell_type": "markdown",
   "metadata": {
    "papermill": {
     "duration": 0.00666,
     "end_time": "2020-07-09T14:38:41.707430",
     "exception": false,
     "start_time": "2020-07-09T14:38:41.700770",
     "status": "completed"
    },
    "tags": []
   },
   "source": [
    "### Validate `Pipeline`\n",
    "In order to make sure the `Pipeline` works as expected, let's visualize the output and check its size. `Pipeline.get_results` will return a batch data of pipeline output for this purpose:"
   ]
  },
  {
   "cell_type": "code",
   "execution_count": 6,
   "metadata": {
    "execution": {
     "iopub.execute_input": "2020-07-09T14:38:41.725215Z",
     "iopub.status.busy": "2020-07-09T14:38:41.724878Z",
     "iopub.status.idle": "2020-07-09T14:38:41.866156Z",
     "shell.execute_reply": "2020-07-09T14:38:41.866427Z"
    },
    "papermill": {
     "duration": 0.152386,
     "end_time": "2020-07-09T14:38:41.866502",
     "exception": false,
     "start_time": "2020-07-09T14:38:41.714116",
     "status": "completed"
    },
    "tags": []
   },
   "outputs": [
    {
     "name": "stdout",
     "output_type": "stream",
     "text": [
      "the pipeline input image size: (8, 32, 32, 3)\n",
      "the pipeline output image size: (8, 3, 32, 32)\n",
      "the pipeline input label size: (8, 1)\n",
      "the pipeline output label size: (8, 10)\n"
     ]
    }
   ],
   "source": [
    "data = pipeline.get_results()\n",
    "data_xin = data[\"x\"]\n",
    "data_xout = data[\"x_out\"]\n",
    "data_yin = data[\"y\"]\n",
    "data_yout = data[\"y_out\"]\n",
    "\n",
    "print(\"the pipeline input image size: {}\".format(data_xin.numpy().shape))\n",
    "print(\"the pipeline output image size: {}\".format(data_xout.numpy().shape))\n",
    "print(\"the pipeline input label size: {}\".format(data_yin.numpy().shape))\n",
    "print(\"the pipeline output label size: {}\".format(data_yout.numpy().shape))"
   ]
  },
  {
   "cell_type": "code",
   "execution_count": 7,
   "metadata": {
    "execution": {
     "iopub.execute_input": "2020-07-09T14:38:41.899025Z",
     "iopub.status.busy": "2020-07-09T14:38:41.885771Z",
     "iopub.status.idle": "2020-07-09T14:38:42.504092Z",
     "shell.execute_reply": "2020-07-09T14:38:42.503765Z"
    },
    "papermill": {
     "duration": 0.63044,
     "end_time": "2020-07-09T14:38:42.504157",
     "exception": false,
     "start_time": "2020-07-09T14:38:41.873717",
     "status": "completed"
    },
    "tags": []
   },
   "outputs": [
    {
     "name": "stderr",
     "output_type": "stream",
     "text": [
      "Clipping input data to the valid range for imshow with RGB data ([0..1] for floats or [0..255] for integers).\n"
     ]
    },
    {
     "name": "stderr",
     "output_type": "stream",
     "text": [
      "Clipping input data to the valid range for imshow with RGB data ([0..1] for floats or [0..255] for integers).\n"
     ]
    },
    {
     "name": "stdout",
     "output_type": "stream",
     "text": [
      "label_in:[9] -> label_out:[0.02 0.02 0.02 0.02 0.02 0.02 0.02 0.02 0.02 0.82]\n",
      "label_in:[1] -> label_out:[0.02 0.82 0.02 0.02 0.02 0.02 0.02 0.02 0.02 0.02]\n",
      "label_in:[9] -> label_out:[0.02 0.02 0.02 0.02 0.02 0.02 0.02 0.02 0.02 0.82]\n",
      "label_in:[4] -> label_out:[0.02 0.02 0.02 0.02 0.82 0.02 0.02 0.02 0.02 0.02]\n",
      "label_in:[6] -> label_out:[0.02 0.02 0.02 0.02 0.02 0.02 0.82 0.02 0.02 0.02]\n"
     ]
    },
    {
     "data": {
      "image/png": "[encoded data removed]",
      "text/plain": [
       "<Figure size 864x864 with 10 Axes>"
      ]
     },
     "metadata": {
      "needs_background": "light"
     },
     "output_type": "display_data"
    }
   ],
   "source": [
    "sample_num = 5\n",
    "\n",
    "fig, axs = plt.subplots(sample_num, 2, figsize=(12,12))\n",
    "\n",
    "axs[0,0].set_title(\"pipeline input img\")\n",
    "axs[0,1].set_title(\"pipeline output img\")\n",
    "\n",
    "for i, j in enumerate(np.random.randint(low=0, high=batch_size-1, size=sample_num)):\n",
    "    # pipeline image visualization \n",
    "    img_in = data_xin.numpy()[j]\n",
    "    axs[i,0].imshow(img_in)\n",
    "    \n",
    "    img_out = data_xout.numpy()[j].transpose((1,2,0))\n",
    "    img_out[:,:,0] = img_out[:,:,0] * 0.2471 + 0.4914 \n",
    "    img_out[:,:,1] = img_out[:,:,1] * 0.2435 + 0.4822\n",
    "    img_out[:,:,2] = img_out[:,:,2] * 0.2616 + 0.4465\n",
    "    axs[i,1].imshow(img_out)\n",
    "    \n",
    "    # pipeline label print\n",
    "    label_in = data_yin.numpy()[j]\n",
    "    label_out = data_yout.numpy()[j]\n",
    "    print(\"label_in:{} -> label_out:{}\".format(label_in, label_out))"
   ]
  },
  {
   "cell_type": "markdown",
   "metadata": {
    "papermill": {
     "duration": 0.008736,
     "end_time": "2020-07-09T14:38:42.521492",
     "exception": false,
     "start_time": "2020-07-09T14:38:42.512756",
     "status": "completed"
    },
    "tags": []
   },
   "source": [
    "## Step 2 - `Network` construction\n",
    "**FastEstimator supports both PyTorch and TensorFlow, so this section could use either backend.** <br>\n",
    "We are going to only demonstrate the PyTorch way in this example.\n",
    "\n",
    "### Model construction\n",
    "The model definitions are implemented in PyTorch and instantiated by calling `fe.build` which also associates the model with a specific optimizer."
   ]
  },
  {
   "cell_type": "code",
   "execution_count": 8,
   "metadata": {
    "execution": {
     "iopub.execute_input": "2020-07-09T14:38:42.549809Z",
     "iopub.status.busy": "2020-07-09T14:38:42.547538Z",
     "iopub.status.idle": "2020-07-09T14:38:42.586186Z",
     "shell.execute_reply": "2020-07-09T14:38:42.585855Z"
    },
    "papermill": {
     "duration": 0.056058,
     "end_time": "2020-07-09T14:38:42.586250",
     "exception": false,
     "start_time": "2020-07-09T14:38:42.530192",
     "status": "completed"
    },
    "tags": []
   },
   "outputs": [],
   "source": [
    "import torch\n",
    "import torch.nn as nn\n",
    "import torch.nn.functional as fn\n",
    "\n",
    "class FastCifar(nn.Module):\n",
    "    def __init__(self):\n",
    "        super().__init__()\n",
    "        self.conv0 = nn.Conv2d(3, 64, 3, padding=(1, 1))\n",
    "        self.conv0_bn = nn.BatchNorm2d(64, momentum=0.8)\n",
    "        self.conv1 = nn.Conv2d(64, 128, 3, padding=(1, 1))\n",
    "        self.conv1_bn = nn.BatchNorm2d(128, momentum=0.8)\n",
    "        self.residual1 = Residual(128, 128)\n",
    "        self.conv2 = nn.Conv2d(128, 256, 3, padding=(1, 1))\n",
    "        self.conv2_bn = nn.BatchNorm2d(256, momentum=0.8)\n",
    "        self.residual2 = Residual(256, 256)\n",
    "        self.conv3 = nn.Conv2d(256, 512, 3, padding=(1, 1))\n",
    "        self.conv3_bn = nn.BatchNorm2d(512, momentum=0.8)\n",
    "        self.residual3 = Residual(512, 512)\n",
    "        self.fc1 = nn.Linear(512, 10)\n",
    "\n",
    "    def forward(self, x):\n",
    "        # prep layer\n",
    "        x = self.conv0(x)\n",
    "        x = self.conv0_bn(x)\n",
    "        x = fn.leaky_relu(x, negative_slope=0.1)\n",
    "        # layer 1\n",
    "        x = self.conv1(x)\n",
    "        x = fn.max_pool2d(x, 2)\n",
    "        x = self.conv1_bn(x)\n",
    "        x = fn.leaky_relu(x, negative_slope=0.1)\n",
    "        x = x + self.residual1(x)\n",
    "        # layer 2\n",
    "        x = self.conv2(x)\n",
    "        x = fn.max_pool2d(x, 2)\n",
    "        x = self.conv2_bn(x)\n",
    "        x = fn.leaky_relu(x, negative_slope=0.1)\n",
    "        x = x + self.residual2(x)\n",
    "        # layer 3\n",
    "        x = self.conv3(x)\n",
    "        x = fn.max_pool2d(x, 2)\n",
    "        x = self.conv3_bn(x)\n",
    "        x = fn.leaky_relu(x, negative_slope=0.1)\n",
    "        x = x + self.residual3(x)\n",
    "        # layer 4\n",
    "        x = fn.max_pool2d(x, kernel_size=x.size()[2:])\n",
    "        x = torch.flatten(x, 1)\n",
    "        x = self.fc1(x)\n",
    "        x = fn.softmax(x, dim=-1)\n",
    "        return x\n",
    "\n",
    "\n",
    "class Residual(nn.Module):\n",
    "    def __init__(self, channel_in, channel_out):\n",
    "        super().__init__()\n",
    "        self.conv1 = nn.Conv2d(channel_in, channel_out, 3, padding=(1, 1))\n",
    "        self.conv1_bn = nn.BatchNorm2d(channel_out)\n",
    "        self.conv2 = nn.Conv2d(channel_out, channel_out, 3, padding=(1, 1))\n",
    "        self.conv2_bn = nn.BatchNorm2d(channel_out)\n",
    "\n",
    "    def forward(self, x):\n",
    "        x = self.conv1(x)\n",
    "        x = self.conv1_bn(x)\n",
    "        x = fn.leaky_relu(x, negative_slope=0.1)\n",
    "        x = self.conv2(x)\n",
    "        x = self.conv2_bn(x)\n",
    "        x = fn.leaky_relu(x, negative_slope=0.1)\n",
    "        return x\n",
    "\n",
    "model = fe.build(model_fn=FastCifar, optimizer_fn=\"adam\")"
   ]
  },
  {
   "cell_type": "markdown",
   "metadata": {
    "papermill": {
     "duration": 0.008599,
     "end_time": "2020-07-09T14:38:42.603456",
     "exception": false,
     "start_time": "2020-07-09T14:38:42.594857",
     "status": "completed"
    },
    "tags": []
   },
   "source": [
    "### `Network` definition\n",
    "`Ops` are the basic components of a network that include models, loss calculation units, and post-processing units. In this step we are going to combine those pieces together into a `Network`:  "
   ]
  },
  {
   "cell_type": "code",
   "execution_count": 9,
   "metadata": {
    "execution": {
     "iopub.execute_input": "2020-07-09T14:38:42.626950Z",
     "iopub.status.busy": "2020-07-09T14:38:42.626626Z",
     "iopub.status.idle": "2020-07-09T14:38:42.627913Z",
     "shell.execute_reply": "2020-07-09T14:38:42.628174Z"
    },
    "papermill": {
     "duration": 0.015698,
     "end_time": "2020-07-09T14:38:42.628240",
     "exception": false,
     "start_time": "2020-07-09T14:38:42.612542",
     "status": "completed"
    },
    "tags": []
   },
   "outputs": [],
   "source": [
    "from fastestimator.op.tensorop.loss import CrossEntropy\n",
    "from fastestimator.op.tensorop.model import ModelOp, UpdateOp\n",
    "\n",
    "network = fe.Network(ops=[\n",
    "        ModelOp(model=model, inputs=\"x_out\", outputs=\"y_pred\"),\n",
    "        CrossEntropy(inputs=(\"y_pred\", \"y_out\"), outputs=\"ce\", mode=\"train\"),\n",
    "        CrossEntropy(inputs=(\"y_pred\", \"y\"), outputs=\"ce\", mode=\"test\"),\n",
    "        UpdateOp(model=model, loss_name=\"ce\", mode=\"train\")\n",
    "    ])"
   ]
  },
  {
   "cell_type": "markdown",
   "metadata": {
    "papermill": {
     "duration": 0.008586,
     "end_time": "2020-07-09T14:38:42.645442",
     "exception": false,
     "start_time": "2020-07-09T14:38:42.636856",
     "status": "completed"
    },
    "tags": []
   },
   "source": [
    "## Step 3 - `Estimator` definition and training\n",
    "In this step, we define an `Estimator` to connect our `Network` with our `Pipeline` and set the `traces` which will compute accuracy (`Accuracy`), save our best model (`BestModelSaver`), and change the learning rate (`LRScheduler`) of our optimizer over time. We will then use `Estimator.fit` to trigger the training."
   ]
  },
  {
   "cell_type": "code",
   "execution_count": 10,
   "metadata": {
    "execution": {
     "iopub.execute_input": "2020-07-09T14:38:42.674473Z",
     "iopub.status.busy": "2020-07-09T14:38:42.670374Z",
     "iopub.status.idle": "2020-07-09T14:38:47.394660Z",
     "shell.execute_reply": "2020-07-09T14:38:47.394911Z"
    },
    "papermill": {
     "duration": 4.740969,
     "end_time": "2020-07-09T14:38:47.395000",
     "exception": false,
     "start_time": "2020-07-09T14:38:42.654031",
     "status": "completed"
    },
    "tags": []
   },
   "outputs": [
    {
     "name": "stdout",
     "output_type": "stream",
     "text": [
      "    ______           __  ______     __  _                 __            \n",
      "   / ____/___ ______/ /_/ ____/____/ /_(_)___ ___  ____ _/ /_____  _____\n",
      "  / /_  / __ `/ ___/ __/ __/ / ___/ __/ / __ `__ \\/ __ `/ __/ __ \\/ ___/\n",
      " / __/ / /_/ (__  ) /_/ /___(__  ) /_/ / / / / / / /_/ / /_/ /_/ / /    \n",
      "/_/    \\__,_/____/\\__/_____/____/\\__/_/_/ /_/ /_/\\__,_/\\__/\\____/_/     \n",
      "                                                                        \n",
      "\n"
     ]
    },
    {
     "name": "stdout",
     "output_type": "stream",
     "text": [
      "FastEstimator-Start: step: 1; num_device: 0; logging_interval: 100; \n"
     ]
    },
    {
     "name": "stdout",
     "output_type": "stream",
     "text": [
      "FastEstimator-Train: step: 1; ce: 5.0723634; model_lr: 8.163265e-05; \n"
     ]
    },
    {
     "name": "stdout",
     "output_type": "stream",
     "text": [
      "FastEstimator-Train: step: 10; epoch: 1; epoch_time: 1.42 sec; \n"
     ]
    },
    {
     "name": "stdout",
     "output_type": "stream",
     "text": [
      "FastEstimator-BestModelSaver: Saved model to /tmp/tmpu9b21w1f/model_best_accuracy.pt\n",
      "FastEstimator-Eval: step: 10; epoch: 1; accuracy: 0.1625; since_best_accuracy: 0; max_accuracy: 0.1625; \n"
     ]
    },
    {
     "name": "stdout",
     "output_type": "stream",
     "text": [
      "FastEstimator-Train: step: 20; epoch: 2; epoch_time: 1.53 sec; \n"
     ]
    },
    {
     "name": "stdout",
     "output_type": "stream",
     "text": [
      "FastEstimator-Eval: step: 20; epoch: 2; accuracy: 0.1; since_best_accuracy: 1; max_accuracy: 0.1625; \n",
      "FastEstimator-Finish: step: 20; total_time: 4.41 sec; model_lr: 0.0016326531; \n"
     ]
    }
   ],
   "source": [
    "from fastestimator.trace.adapt import LRScheduler\n",
    "from fastestimator.trace.io import BestModelSaver\n",
    "from fastestimator.trace.metric import Accuracy\n",
    "\n",
    "def lr_schedule(step):\n",
    "    if step <= 490:\n",
    "        lr = step / 490 * 0.4\n",
    "    else:\n",
    "        lr = (2352 - step) / 1862 * 0.4\n",
    "    return lr * 0.1\n",
    "\n",
    "traces = [\n",
    "    Accuracy(true_key=\"y\", pred_key=\"y_pred\"),\n",
    "    BestModelSaver(model=model, save_dir=save_dir, metric=\"accuracy\", save_best_mode=\"max\"),\n",
    "    LRScheduler(model=model, lr_fn=lr_schedule)\n",
    "]\n",
    "\n",
    "estimator = fe.Estimator(pipeline=pipeline,\n",
    "                         network=network,\n",
    "                         epochs=epochs,\n",
    "                         traces=traces,\n",
    "                         max_train_steps_per_epoch=max_train_steps_per_epoch,\n",
    "                         max_eval_steps_per_epoch=max_eval_steps_per_epoch)\n",
    "\n",
    "estimator.fit() # start the training "
   ]
  },
  {
   "cell_type": "markdown",
   "metadata": {
    "papermill": {
     "duration": 0.010275,
     "end_time": "2020-07-09T14:38:47.415417",
     "exception": false,
     "start_time": "2020-07-09T14:38:47.405142",
     "status": "completed"
    },
    "tags": []
   },
   "source": [
    "## Model testing\n",
    "`Estimator.test` will trigger model testing using all of the test data defined in the `Pipeline`. This will allow us to check our accuracy on previously unseen data."
   ]
  },
  {
   "cell_type": "code",
   "execution_count": 11,
   "metadata": {
    "execution": {
     "iopub.execute_input": "2020-07-09T14:38:47.441689Z",
     "iopub.status.busy": "2020-07-09T14:38:47.441103Z",
     "iopub.status.idle": "2020-07-09T14:39:08.983322Z",
     "shell.execute_reply": "2020-07-09T14:39:08.983577Z"
    },
    "papermill": {
     "duration": 21.556441,
     "end_time": "2020-07-09T14:39:08.983654",
     "exception": false,
     "start_time": "2020-07-09T14:38:47.427213",
     "status": "completed"
    },
    "tags": []
   },
   "outputs": [
    {
     "name": "stdout",
     "output_type": "stream",
     "text": [
      "FastEstimator-Test: step: 20; epoch: 2; accuracy: 0.1256; \n"
     ]
    }
   ],
   "source": [
    "estimator.test()"
   ]
  },
  {
   "cell_type": "markdown",
   "metadata": {
    "papermill": {
     "duration": 0.010161,
     "end_time": "2020-07-09T14:39:09.004492",
     "exception": false,
     "start_time": "2020-07-09T14:39:08.994331",
     "status": "completed"
    },
    "tags": []
   },
   "source": [
    "## Inferencing\n",
    "In this step we run image inference directly using the model that we just trained. We randomly select 5 images from testing dataset and infer them image by image using `Pipeline.transform` and `Network.transform`. Please be aware that the `Pipeline` is no longer the same as it was during training, because we don't want to use data augmentation during inference. This detail was already defined in the `Pipeline` (mode = \"!infer\"). "
   ]
  },
  {
   "cell_type": "code",
   "execution_count": 12,
   "metadata": {
    "execution": {
     "iopub.execute_input": "2020-07-09T14:39:09.034036Z",
     "iopub.status.busy": "2020-07-09T14:39:09.033401Z",
     "iopub.status.idle": "2020-07-09T14:39:09.871336Z",
     "shell.execute_reply": "2020-07-09T14:39:09.871018Z"
    },
    "papermill": {
     "duration": 0.856184,
     "end_time": "2020-07-09T14:39:09.871399",
     "exception": false,
     "start_time": "2020-07-09T14:39:09.015215",
     "status": "completed"
    },
    "tags": []
   },
   "outputs": [
    {
     "name": "stderr",
     "output_type": "stream",
     "text": [
      "Clipping input data to the valid range for imshow with RGB data ([0..1] for floats or [0..255] for integers).\n"
     ]
    },
    {
     "name": "stderr",
     "output_type": "stream",
     "text": [
      "Clipping input data to the valid range for imshow with RGB data ([0..1] for floats or [0..255] for integers).\n"
     ]
    },
    {
     "data": {
      "image/png": "[encoded data removed]",
      "text/plain": [
       "<Figure size 864x864 with 15 Axes>"
      ]
     },
     "metadata": {
      "needs_background": "light"
     },
     "output_type": "display_data"
    }
   ],
   "source": [
    "sample_num = 5\n",
    "\n",
    "fig, axs = plt.subplots(sample_num, 3, figsize=(12,12))\n",
    "\n",
    "axs[0,0].set_title(\"pipeline input\")\n",
    "axs[0,1].set_title(\"pipeline output\")\n",
    "axs[0,2].set_title(\"predict result\")\n",
    "\n",
    "for i, j in enumerate(np.random.randint(low=0, high=batch_size-1, size=sample_num)):\n",
    "    data = {\"x\": test_data[\"x\"][j]}\n",
    "    axs[i,0].imshow(data[\"x\"], cmap=\"gray\")\n",
    "    \n",
    "    # run the pipeline\n",
    "    data = pipeline.transform(data, mode=\"infer\") \n",
    "    img = data[\"x_out\"].squeeze(axis=0).transpose((1,2,0))\n",
    "    img[:,:,0] = img[:,:,0] * 0.2471 + 0.4914 \n",
    "    img[:,:,1] = img[:,:,1] * 0.2435 + 0.4822\n",
    "    img[:,:,2] = img[:,:,2] * 0.2616 + 0.4465\n",
    "    axs[i,1].imshow(img)\n",
    "    \n",
    "    # run the network\n",
    "    data = network.transform(data, mode=\"infer\")\n",
    "    predict = data[\"y_pred\"].numpy().squeeze(axis=(0))\n",
    "    axs[i,2].text(0.2, 0.5, \"predicted class: {}\".format(np.argmax(predict)))\n",
    "    axs[i,2].get_xaxis().set_visible(False)\n",
    "    axs[i,2].get_yaxis().set_visible(False)"
   ]
  }
 ],
 "metadata": {
  "celltoolbar": "Tags",
  "kernelspec": {
   "display_name": "Python 3",
   "language": "python",
   "name": "python3"
  },
  "language_info": {
   "codemirror_mode": {
    "name": "ipython",
    "version": 3
   },
   "file_extension": ".py",
   "mimetype": "text/x-python",
   "name": "python",
   "nbconvert_exporter": "python",
   "pygments_lexer": "ipython3",
   "version": "3.6.10"
  },
  "papermill": {
   "duration": 32.496209,
   "end_time": "2020-07-09T14:39:10.487834",
   "environment_variables": {},
   "exception": null,
   "input_path": "/home/geez219/python_project/fastestimator/apphub/image_classification/cifar10_fast/cifar10_fast.ipynb",
   "output_path": "/home/geez219/python_project/fastestimator/test/apphub_scripts/image_classification/cifar10_fast/cifar10_fast_out.ipynb",
   "parameters": {
    "batch_size": 8,
    "epochs": 2,
    "max_eval_steps_per_epoch": 10,
    "max_train_steps_per_epoch": 10
   },
   "start_time": "2020-07-09T14:38:37.991625",
   "version": "2.1.1"
  }
 },
 "nbformat": 4,
 "nbformat_minor": 4
}