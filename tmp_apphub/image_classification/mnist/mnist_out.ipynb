{
 "cells": [
  {
   "cell_type": "markdown",
   "metadata": {
    "papermill": {
     "duration": 0.039719,
     "end_time": "2020-07-09T14:40:34.745603",
     "exception": false,
     "start_time": "2020-07-09T14:40:34.705884",
     "status": "completed"
    },
    "tags": []
   },
   "source": [
    "# MNIST Image Classification Using LeNet (Tensorflow Backend)\n",
    "In this example, we are going to demonstrate how to train an MNIST image classification model using a LeNet model architecture and TensorFlow backend. "
   ]
  },
  {
   "cell_type": "markdown",
   "metadata": {
    "papermill": {
     "duration": 0.008776,
     "end_time": "2020-07-09T14:40:34.767426",
     "exception": false,
     "start_time": "2020-07-09T14:40:34.758650",
     "status": "completed"
    },
    "tags": []
   },
   "source": [
    "## Import the required libraries"
   ]
  },
  {
   "cell_type": "code",
   "execution_count": 1,
   "metadata": {
    "execution": {
     "iopub.execute_input": "2020-07-09T14:40:34.783828Z",
     "iopub.status.busy": "2020-07-09T14:40:34.783442Z",
     "iopub.status.idle": "2020-07-09T14:40:37.183401Z",
     "shell.execute_reply": "2020-07-09T14:40:37.183052Z"
    },
    "papermill": {
     "duration": 2.408742,
     "end_time": "2020-07-09T14:40:37.183467",
     "exception": false,
     "start_time": "2020-07-09T14:40:34.774725",
     "status": "completed"
    },
    "tags": []
   },
   "outputs": [],
   "source": [
    "import tensorflow as tf\n",
    "import fastestimator as fe\n",
    "import numpy as np\n",
    "import matplotlib.pyplot as plt\n",
    "import tempfile"
   ]
  },
  {
   "cell_type": "code",
   "execution_count": 2,
   "metadata": {
    "execution": {
     "iopub.execute_input": "2020-07-09T14:40:37.202716Z",
     "iopub.status.busy": "2020-07-09T14:40:37.202391Z",
     "iopub.status.idle": "2020-07-09T14:40:37.203699Z",
     "shell.execute_reply": "2020-07-09T14:40:37.203953Z"
    },
    "papermill": {
     "duration": 0.013971,
     "end_time": "2020-07-09T14:40:37.204022",
     "exception": false,
     "start_time": "2020-07-09T14:40:37.190051",
     "status": "completed"
    },
    "tags": [
     "parameters"
    ]
   },
   "outputs": [],
   "source": [
    "#training parameters\n",
    "epochs = 2\n",
    "batch_size = 32\n",
    "max_train_steps_per_epoch = None\n",
    "max_eval_steps_per_epoch = None\n",
    "save_dir = tempfile.mkdtemp()"
   ]
  },
  {
   "cell_type": "code",
   "execution_count": 3,
   "metadata": {
    "execution": {
     "iopub.execute_input": "2020-07-09T14:40:37.219658Z",
     "iopub.status.busy": "2020-07-09T14:40:37.219332Z",
     "iopub.status.idle": "2020-07-09T14:40:37.221074Z",
     "shell.execute_reply": "2020-07-09T14:40:37.220788Z"
    },
    "papermill": {
     "duration": 0.010684,
     "end_time": "2020-07-09T14:40:37.221128",
     "exception": false,
     "start_time": "2020-07-09T14:40:37.210444",
     "status": "completed"
    },
    "tags": [
     "injected-parameters"
    ]
   },
   "outputs": [],
   "source": [
    "# Parameters\n",
    "epochs = 2\n",
    "batch_size = 8\n",
    "max_train_steps_per_epoch = 10\n",
    "max_eval_steps_per_epoch = 10\n"
   ]
  },
  {
   "cell_type": "markdown",
   "metadata": {
    "papermill": {
     "duration": 0.00638,
     "end_time": "2020-07-09T14:40:37.234613",
     "exception": false,
     "start_time": "2020-07-09T14:40:37.228233",
     "status": "completed"
    },
    "tags": []
   },
   "source": [
    "## Step 1 - Data and `Pipeline` preparation\n",
    "In this step, we will load MNIST training and validation datasets and prepare FastEstimator's pipeline.\n",
    "\n",
    "### Load dataset \n",
    "We use a FastEstimator API to load the MNIST dataset and then get a test set by splitting 50% of the data off of the evaluation set. "
   ]
  },
  {
   "cell_type": "code",
   "execution_count": 4,
   "metadata": {
    "execution": {
     "iopub.execute_input": "2020-07-09T14:40:37.250847Z",
     "iopub.status.busy": "2020-07-09T14:40:37.250530Z",
     "iopub.status.idle": "2020-07-09T14:40:37.478462Z",
     "shell.execute_reply": "2020-07-09T14:40:37.478185Z"
    },
    "papermill": {
     "duration": 0.237482,
     "end_time": "2020-07-09T14:40:37.478527",
     "exception": false,
     "start_time": "2020-07-09T14:40:37.241045",
     "status": "completed"
    },
    "tags": []
   },
   "outputs": [],
   "source": [
    "from fastestimator.dataset.data import mnist\n",
    "\n",
    "train_data, eval_data = mnist.load_data()\n",
    "test_data = eval_data.split(0.5)"
   ]
  },
  {
   "cell_type": "markdown",
   "metadata": {
    "papermill": {
     "duration": 0.007129,
     "end_time": "2020-07-09T14:40:37.492501",
     "exception": false,
     "start_time": "2020-07-09T14:40:37.485372",
     "status": "completed"
    },
    "tags": []
   },
   "source": [
    "### Set up a preprocessing pipeline\n",
    "In this example, the data preprocessing steps include adding a channel to the images (since they are grey-scale) and normalizing the image pixel values to the range [0, 1]. We set up these processing steps using `Ops`. The `Pipeline` also takes our data sources and batch size as inputs. "
   ]
  },
  {
   "cell_type": "code",
   "execution_count": 5,
   "metadata": {
    "execution": {
     "iopub.execute_input": "2020-07-09T14:40:37.511115Z",
     "iopub.status.busy": "2020-07-09T14:40:37.510791Z",
     "iopub.status.idle": "2020-07-09T14:40:37.512273Z",
     "shell.execute_reply": "2020-07-09T14:40:37.512014Z"
    },
    "papermill": {
     "duration": 0.012781,
     "end_time": "2020-07-09T14:40:37.512334",
     "exception": false,
     "start_time": "2020-07-09T14:40:37.499553",
     "status": "completed"
    },
    "tags": []
   },
   "outputs": [],
   "source": [
    "from fastestimator.op.numpyop.univariate import ExpandDims, Minmax\n",
    "\n",
    "pipeline = fe.Pipeline(train_data=train_data,\n",
    "                       eval_data=eval_data,\n",
    "                       test_data=test_data,\n",
    "                       batch_size=batch_size,\n",
    "                       ops=[ExpandDims(inputs=\"x\", outputs=\"x_out\"), \n",
    "                            Minmax(inputs=\"x_out\", outputs=\"x_out\")])"
   ]
  },
  {
   "cell_type": "markdown",
   "metadata": {
    "papermill": {
     "duration": 0.006661,
     "end_time": "2020-07-09T14:40:37.525628",
     "exception": false,
     "start_time": "2020-07-09T14:40:37.518967",
     "status": "completed"
    },
    "tags": []
   },
   "source": [
    "### Validate `Pipeline`\n",
    "In order to make sure the pipeline works as expected, we need to visualize its output. `Pipeline.get_results` will return a batch  of pipeline output to enable this:  "
   ]
  },
  {
   "cell_type": "code",
   "execution_count": 6,
   "metadata": {
    "execution": {
     "iopub.execute_input": "2020-07-09T14:40:37.543929Z",
     "iopub.status.busy": "2020-07-09T14:40:37.543529Z",
     "iopub.status.idle": "2020-07-09T14:40:37.651555Z",
     "shell.execute_reply": "2020-07-09T14:40:37.651286Z"
    },
    "papermill": {
     "duration": 0.119024,
     "end_time": "2020-07-09T14:40:37.651620",
     "exception": false,
     "start_time": "2020-07-09T14:40:37.532596",
     "status": "completed"
    },
    "tags": []
   },
   "outputs": [
    {
     "name": "stdout",
     "output_type": "stream",
     "text": [
      "the pipeline input data size: (8, 28, 28)\n",
      "the pipeline output data size: (8, 28, 28, 1)\n",
      "the maximum pixel value of output image: 1.0\n",
      "the minimum pixel value of output image: 0.0\n"
     ]
    }
   ],
   "source": [
    "data = pipeline.get_results()\n",
    "data_xin = data[\"x\"]\n",
    "data_xout = data[\"x_out\"]\n",
    "\n",
    "print(\"the pipeline input data size: {}\".format(data_xin.numpy().shape))\n",
    "print(\"the pipeline output data size: {}\".format(data_xout.numpy().shape))\n",
    "print(\"the maximum pixel value of output image: {}\".format(np.max(data_xout.numpy())))\n",
    "print(\"the minimum pixel value of output image: {}\".format(np.min(data_xout.numpy())))"
   ]
  },
  {
   "cell_type": "code",
   "execution_count": 7,
   "metadata": {
    "execution": {
     "iopub.execute_input": "2020-07-09T14:40:37.790457Z",
     "iopub.status.busy": "2020-07-09T14:40:37.790107Z",
     "iopub.status.idle": "2020-07-09T14:40:38.093157Z",
     "shell.execute_reply": "2020-07-09T14:40:38.092832Z"
    },
    "papermill": {
     "duration": 0.43452,
     "end_time": "2020-07-09T14:40:38.093221",
     "exception": false,
     "start_time": "2020-07-09T14:40:37.658701",
     "status": "completed"
    },
    "tags": []
   },
   "outputs": [
    {
     "data": {
      "image/png": "[encoded data removed]",
      "text/plain": [
       "<Figure size 450x1040 with 10 Axes>"
      ]
     },
     "metadata": {
      "needs_background": "light"
     },
     "output_type": "display_data"
    }
   ],
   "source": [
    "num_samples = 5\n",
    "indices = np.random.choice(batch_size, size=num_samples, replace=False)\n",
    "inputs = tf.gather(data_xin.numpy(), indices)\n",
    "outputs = tf.gather(data_xout.numpy(), indices)\n",
    "img = fe.util.ImgData(pipeline_input=inputs, pipeline_output=outputs)\n",
    "fig = img.paint_figure()"
   ]
  },
  {
   "cell_type": "markdown",
   "metadata": {
    "papermill": {
     "duration": 0.008265,
     "end_time": "2020-07-09T14:40:38.108938",
     "exception": false,
     "start_time": "2020-07-09T14:40:38.100673",
     "status": "completed"
    },
    "tags": []
   },
   "source": [
    "## Step 2 - `Network` construction\n",
    "**FastEstimator supports both PyTorch and TensorFlow, so this section could use either backend.** <br>\n",
    "We are going to only demonstrate the TensorFlow backend in this example.\n",
    "\n",
    "### Model construction\n",
    "Here we are going to import one of FastEstimator's pre-defined model architectures, which was written in TensorFlow. We create a model instance by compiling our model definition function along with a specific model optimizer."
   ]
  },
  {
   "cell_type": "code",
   "execution_count": 8,
   "metadata": {
    "execution": {
     "iopub.execute_input": "2020-07-09T14:40:38.129278Z",
     "iopub.status.busy": "2020-07-09T14:40:38.128954Z",
     "iopub.status.idle": "2020-07-09T14:40:38.189144Z",
     "shell.execute_reply": "2020-07-09T14:40:38.188804Z"
    },
    "papermill": {
     "duration": 0.072359,
     "end_time": "2020-07-09T14:40:38.189211",
     "exception": false,
     "start_time": "2020-07-09T14:40:38.116852",
     "status": "completed"
    },
    "tags": []
   },
   "outputs": [],
   "source": [
    "from fastestimator.architecture.tensorflow import LeNet\n",
    "\n",
    "model = fe.build(model_fn=LeNet, optimizer_fn=\"adam\")"
   ]
  },
  {
   "cell_type": "markdown",
   "metadata": {
    "papermill": {
     "duration": 0.008177,
     "end_time": "2020-07-09T14:40:38.204939",
     "exception": false,
     "start_time": "2020-07-09T14:40:38.196762",
     "status": "completed"
    },
    "tags": []
   },
   "source": [
    "### `Network` definition\n",
    "We are going to connect the model and `Ops` together into a `Network`. `Ops` are the basic components of a `Network`. They can be logic for loss calculation, model update rules, or even models themselves. "
   ]
  },
  {
   "cell_type": "code",
   "execution_count": 9,
   "metadata": {
    "execution": {
     "iopub.execute_input": "2020-07-09T14:40:38.228202Z",
     "iopub.status.busy": "2020-07-09T14:40:38.227865Z",
     "iopub.status.idle": "2020-07-09T14:40:38.229540Z",
     "shell.execute_reply": "2020-07-09T14:40:38.229255Z"
    },
    "papermill": {
     "duration": 0.016499,
     "end_time": "2020-07-09T14:40:38.229601",
     "exception": false,
     "start_time": "2020-07-09T14:40:38.213102",
     "status": "completed"
    },
    "tags": []
   },
   "outputs": [],
   "source": [
    "from fastestimator.op.tensorop.loss import CrossEntropy\n",
    "from fastestimator.op.tensorop.model import ModelOp, UpdateOp\n",
    "\n",
    "\n",
    "network = fe.Network(ops=[\n",
    "        ModelOp(model=model, inputs=\"x_out\", outputs=\"y_pred\"),\n",
    "        CrossEntropy(inputs=(\"y_pred\", \"y\"), outputs=\"ce\"),\n",
    "        UpdateOp(model=model, loss_name=\"ce\")\n",
    "    ])"
   ]
  },
  {
   "cell_type": "markdown",
   "metadata": {
    "papermill": {
     "duration": 0.008298,
     "end_time": "2020-07-09T14:40:38.245711",
     "exception": false,
     "start_time": "2020-07-09T14:40:38.237413",
     "status": "completed"
    },
    "tags": []
   },
   "source": [
    "## Step 3 - `Estimator` definition and training\n",
    "In this step, we define an `Estimator` to connect our `Network` with our `Pipeline` and set the `traces` which compute accuracy (`Accuracy`), save the best model (`BestModelSaver`), and change the model learning rate over time (`LRScheduler`)."
   ]
  },
  {
   "cell_type": "code",
   "execution_count": 10,
   "metadata": {
    "execution": {
     "iopub.execute_input": "2020-07-09T14:40:38.269041Z",
     "iopub.status.busy": "2020-07-09T14:40:38.268321Z",
     "iopub.status.idle": "2020-07-09T14:40:41.267389Z",
     "shell.execute_reply": "2020-07-09T14:40:41.267640Z"
    },
    "papermill": {
     "duration": 3.013939,
     "end_time": "2020-07-09T14:40:41.267718",
     "exception": false,
     "start_time": "2020-07-09T14:40:38.253779",
     "status": "completed"
    },
    "tags": []
   },
   "outputs": [
    {
     "name": "stdout",
     "output_type": "stream",
     "text": [
      "    ______           __  ______     __  _                 __            \n",
      "   / ____/___ ______/ /_/ ____/____/ /_(_)___ ___  ____ _/ /_____  _____\n",
      "  / /_  / __ `/ ___/ __/ __/ / ___/ __/ / __ `__ \\/ __ `/ __/ __ \\/ ___/\n",
      " / __/ / /_/ (__  ) /_/ /___(__  ) /_/ / / / / / / /_/ / /_/ /_/ / /    \n",
      "/_/    \\__,_/____/\\__/_____/____/\\__/_/_/ /_/ /_/\\__,_/\\__/\\____/_/     \n",
      "                                                                        \n",
      "\n"
     ]
    },
    {
     "name": "stdout",
     "output_type": "stream",
     "text": [
      "FastEstimator-Start: step: 1; num_device: 0; logging_interval: 100; \n"
     ]
    },
    {
     "name": "stdout",
     "output_type": "stream",
     "text": [
      "FastEstimator-Train: step: 1; ce: 2.311523; model_lr: 0.001; \n",
      "FastEstimator-Train: step: 10; epoch: 1; epoch_time: 0.52 sec; \n"
     ]
    },
    {
     "name": "stdout",
     "output_type": "stream",
     "text": [
      "FastEstimator-BestModelSaver: Saved model to /tmp/tmpioyfvnia/model_best_accuracy.h5\n",
      "FastEstimator-Eval: step: 10; epoch: 1; ce: 2.2158093; accuracy: 0.3375; since_best_accuracy: 0; max_accuracy: 0.3375; \n"
     ]
    },
    {
     "name": "stdout",
     "output_type": "stream",
     "text": [
      "FastEstimator-Train: step: 20; epoch: 2; epoch_time: 0.15 sec; \n"
     ]
    },
    {
     "name": "stdout",
     "output_type": "stream",
     "text": [
      "FastEstimator-BestModelSaver: Saved model to /tmp/tmpioyfvnia/model_best_accuracy.h5\n",
      "FastEstimator-Eval: step: 20; epoch: 2; ce: 2.0949578; accuracy: 0.375; since_best_accuracy: 0; max_accuracy: 0.375; \n",
      "FastEstimator-Finish: step: 20; total_time: 1.36 sec; model_lr: 0.0009999367; \n"
     ]
    }
   ],
   "source": [
    "from fastestimator.schedule import cosine_decay\n",
    "from fastestimator.trace.adapt import LRScheduler\n",
    "from fastestimator.trace.io import BestModelSaver\n",
    "from fastestimator.trace.metric import Accuracy\n",
    "\n",
    "\n",
    "traces = [\n",
    "    Accuracy(true_key=\"y\", pred_key=\"y_pred\"),\n",
    "    BestModelSaver(model=model, save_dir=save_dir, metric=\"accuracy\", save_best_mode=\"max\"),\n",
    "    LRScheduler(model=model, lr_fn=lambda step: cosine_decay(step, cycle_length=3750, init_lr=1e-3))\n",
    "]\n",
    "\n",
    "estimator = fe.Estimator(pipeline=pipeline,\n",
    "                         network=network,\n",
    "                         epochs=epochs,\n",
    "                         traces=traces,\n",
    "                         max_train_steps_per_epoch=max_train_steps_per_epoch,\n",
    "                         max_eval_steps_per_epoch=max_eval_steps_per_epoch)\n",
    "\n",
    "estimator.fit() # start the training process"
   ]
  },
  {
   "cell_type": "markdown",
   "metadata": {
    "papermill": {
     "duration": 0.009688,
     "end_time": "2020-07-09T14:40:41.286442",
     "exception": false,
     "start_time": "2020-07-09T14:40:41.276754",
     "status": "completed"
    },
    "tags": []
   },
   "source": [
    "## Model testing\n",
    "`Estimator.test` triggers model testing using the test dataset that was specified in `Pipeline`. We can evaluate the model's accuracy on this previously unseen data. "
   ]
  },
  {
   "cell_type": "code",
   "execution_count": 11,
   "metadata": {
    "execution": {
     "iopub.execute_input": "2020-07-09T14:40:41.309240Z",
     "iopub.status.busy": "2020-07-09T14:40:41.308914Z",
     "iopub.status.idle": "2020-07-09T14:40:42.378738Z",
     "shell.execute_reply": "2020-07-09T14:40:42.378453Z"
    },
    "papermill": {
     "duration": 1.083061,
     "end_time": "2020-07-09T14:40:42.378803",
     "exception": false,
     "start_time": "2020-07-09T14:40:41.295742",
     "status": "completed"
    },
    "tags": []
   },
   "outputs": [
    {
     "name": "stdout",
     "output_type": "stream",
     "text": [
      "FastEstimator-Test: step: 20; epoch: 2; accuracy: 0.2792; \n"
     ]
    }
   ],
   "source": [
    "estimator.test()"
   ]
  },
  {
   "cell_type": "markdown",
   "metadata": {
    "papermill": {
     "duration": 0.008953,
     "end_time": "2020-07-09T14:40:42.396887",
     "exception": false,
     "start_time": "2020-07-09T14:40:42.387934",
     "status": "completed"
    },
    "tags": []
   },
   "source": [
    "## Inferencing\n",
    "Now let's run inferencing on several images directly using the model that we just trained. \n",
    "We randomly select 5 images from the testing dataset and infer them image by image by leveraging `Pipeline.transform` and `Network.transform`:"
   ]
  },
  {
   "cell_type": "code",
   "execution_count": 12,
   "metadata": {
    "execution": {
     "iopub.execute_input": "2020-07-09T14:40:42.421309Z",
     "iopub.status.busy": "2020-07-09T14:40:42.420967Z",
     "iopub.status.idle": "2020-07-09T14:40:42.867259Z",
     "shell.execute_reply": "2020-07-09T14:40:42.866932Z"
    },
    "papermill": {
     "duration": 0.46112,
     "end_time": "2020-07-09T14:40:42.867322",
     "exception": false,
     "start_time": "2020-07-09T14:40:42.406202",
     "status": "completed"
    },
    "tags": []
   },
   "outputs": [
    {
     "data": {
      "image/png": "[encoded data removed]",
      "text/plain": [
       "<Figure size 700x1040 with 15 Axes>"
      ]
     },
     "metadata": {
      "needs_background": "light"
     },
     "output_type": "display_data"
    }
   ],
   "source": [
    "num_samples = 5\n",
    "indices = np.random.choice(batch_size, size=num_samples, replace=False)\n",
    "\n",
    "inputs = []\n",
    "outputs = []\n",
    "predictions = []\n",
    "\n",
    "for idx in indices:\n",
    "    inputs.append(test_data[\"x\"][idx])\n",
    "    data = {\"x\": inputs[-1]}\n",
    "    \n",
    "    # run the pipeline\n",
    "    data = pipeline.transform(data, mode=\"infer\") \n",
    "    outputs.append(data[\"x_out\"].squeeze(axis=(0,3)))\n",
    "    \n",
    "    # run the network\n",
    "    data = network.transform(data, mode=\"infer\")\n",
    "    predictions.append(np.argmax(data[\"y_pred\"].numpy().squeeze(axis=(0))))\n",
    "\n",
    "img = fe.util.ImgData(pipeline_input=np.stack(inputs), pipeline_output=np.stack(outputs), predictions=np.stack(predictions))\n",
    "fig = img.paint_figure()"
   ]
  }
 ],
 "metadata": {
  "celltoolbar": "Tags",
  "kernelspec": {
   "display_name": "Python 3",
   "language": "python",
   "name": "python3"
  },
  "language_info": {
   "codemirror_mode": {
    "name": "ipython",
    "version": 3
   },
   "file_extension": ".py",
   "mimetype": "text/x-python",
   "name": "python",
   "nbconvert_exporter": "python",
   "pygments_lexer": "ipython3",
   "version": "3.6.10"
  },
  "papermill": {
   "duration": 9.516324,
   "end_time": "2020-07-09T14:40:43.582949",
   "environment_variables": {},
   "exception": null,
   "input_path": "/home/geez219/python_project/fastestimator/apphub/image_classification/mnist/mnist.ipynb",
   "output_path": "/home/geez219/python_project/fastestimator/test/apphub_scripts/image_classification/mnist/mnist_out.ipynb",
   "parameters": {
    "batch_size": 8,
    "epochs": 2,
    "max_eval_steps_per_epoch": 10,
    "max_train_steps_per_epoch": 10
   },
   "start_time": "2020-07-09T14:40:34.066625",
   "version": "2.1.1"
  }
 },
 "nbformat": 4,
 "nbformat_minor": 4
}