{
 "cells": [
  {
   "cell_type": "markdown",
   "metadata": {
    "papermill": {
     "duration": 0.042915,
     "end_time": "2020-07-28T16:35:59.770557",
     "exception": false,
     "start_time": "2020-07-28T16:35:59.727642",
     "status": "completed"
    },
    "tags": []
   },
   "source": [
    "# Convolutional Variational Autoencoder using the MNIST dataset (TensorFlow backend)\n",
    "\n",
    "## Introduction to CVAE\n",
    "\n",
    "CVAEs are Convolutional Variational Autoencoders. They are composed of two models using convolutions: an encoder to cast the input into a latent dimension, and a decoder that will move data from the latent dimension back to the input space. The figure below illustrates the main idea behind CVAEs. \n",
    "\n",
    "\n",
    "In this example, we will use a CVAE to generate data similar to the MNIST dataset using the TensorFlow backend. All training details including model structure, data preprocessing, loss calculation, etc. come from the [TensorFlow CVAE tutorial](https://www.tensorflow.org/tutorials/generative/cvae)\n",
    "![cvae](./VAE_complete.png)[img source: https://mlexplained.com/2017/12/28/an-intuitive-explanation-of-variational-autoencoders-vaes-part-1]"
   ]
  },
  {
   "cell_type": "markdown",
   "metadata": {
    "papermill": {
     "duration": 0.009665,
     "end_time": "2020-07-28T16:35:59.794311",
     "exception": false,
     "start_time": "2020-07-28T16:35:59.784646",
     "status": "completed"
    },
    "tags": []
   },
   "source": [
    "## Import the required libraries"
   ]
  },
  {
   "cell_type": "code",
   "execution_count": 1,
   "metadata": {
    "execution": {
     "iopub.execute_input": "2020-07-28T16:35:59.813151Z",
     "iopub.status.busy": "2020-07-28T16:35:59.812801Z",
     "iopub.status.idle": "2020-07-28T16:36:03.582184Z",
     "shell.execute_reply": "2020-07-28T16:36:03.581809Z"
    },
    "papermill": {
     "duration": 3.779976,
     "end_time": "2020-07-28T16:36:03.582250",
     "exception": false,
     "start_time": "2020-07-28T16:35:59.802274",
     "status": "completed"
    },
    "tags": []
   },
   "outputs": [],
   "source": [
    "import tensorflow as tf\n",
    "import fastestimator as fe\n",
    "import numpy as np\n",
    "import tempfile\n",
    "import matplotlib.pyplot as plt\n",
    "from typing import Any, Dict, Tuple"
   ]
  },
  {
   "cell_type": "code",
   "execution_count": 2,
   "metadata": {
    "execution": {
     "iopub.execute_input": "2020-07-28T16:36:03.603522Z",
     "iopub.status.busy": "2020-07-28T16:36:03.603201Z",
     "iopub.status.idle": "2020-07-28T16:36:03.604932Z",
     "shell.execute_reply": "2020-07-28T16:36:03.604629Z"
    },
    "papermill": {
     "duration": 0.015047,
     "end_time": "2020-07-28T16:36:03.604989",
     "exception": false,
     "start_time": "2020-07-28T16:36:03.589942",
     "status": "completed"
    },
    "tags": [
     "parameters"
    ]
   },
   "outputs": [],
   "source": [
    "#training parameters\n",
    "epochs = 20\n",
    "batch_size = 100\n",
    "max_train_steps_per_epoch = None\n",
    "save_dir = tempfile.mkdtemp()"
   ]
  },
  {
   "cell_type": "code",
   "execution_count": 3,
   "metadata": {
    "execution": {
     "iopub.execute_input": "2020-07-28T16:36:03.622964Z",
     "iopub.status.busy": "2020-07-28T16:36:03.622644Z",
     "iopub.status.idle": "2020-07-28T16:36:03.624143Z",
     "shell.execute_reply": "2020-07-28T16:36:03.623865Z"
    },
    "papermill": {
     "duration": 0.011029,
     "end_time": "2020-07-28T16:36:03.624201",
     "exception": false,
     "start_time": "2020-07-28T16:36:03.613172",
     "status": "completed"
    },
    "tags": [
     "injected-parameters"
    ]
   },
   "outputs": [],
   "source": [
    "# Parameters\n",
    "epochs = 2\n",
    "batch_size = 8\n",
    "max_train_steps_per_epoch = 10\n"
   ]
  },
  {
   "cell_type": "markdown",
   "metadata": {
    "papermill": {
     "duration": 0.007649,
     "end_time": "2020-07-28T16:36:03.639378",
     "exception": false,
     "start_time": "2020-07-28T16:36:03.631729",
     "status": "completed"
    },
    "tags": []
   },
   "source": [
    "## Step 1 - Data and `Pipeline` preparation\n",
    "In this step, we will load MNIST training and validation dataset and prepare FastEstimator's data `Pipeline`.\n",
    "\n",
    "### Load dataset \n",
    "Let's use a FastEstimator API to load the MNIST dataset: "
   ]
  },
  {
   "cell_type": "code",
   "execution_count": 4,
   "metadata": {
    "execution": {
     "iopub.execute_input": "2020-07-28T16:36:03.656949Z",
     "iopub.status.busy": "2020-07-28T16:36:03.656632Z",
     "iopub.status.idle": "2020-07-28T16:36:03.875295Z",
     "shell.execute_reply": "2020-07-28T16:36:03.874986Z"
    },
    "papermill": {
     "duration": 0.228297,
     "end_time": "2020-07-28T16:36:03.875360",
     "exception": false,
     "start_time": "2020-07-28T16:36:03.647063",
     "status": "completed"
    },
    "tags": []
   },
   "outputs": [],
   "source": [
    "from fastestimator.dataset.data.mnist import load_data\n",
    "\n",
    "train_data, test_data = load_data()"
   ]
  },
  {
   "cell_type": "markdown",
   "metadata": {
    "papermill": {
     "duration": 0.007583,
     "end_time": "2020-07-28T16:36:03.890728",
     "exception": false,
     "start_time": "2020-07-28T16:36:03.883145",
     "status": "completed"
    },
    "tags": []
   },
   "source": [
    "### Set up the preprocessing `Pipline`\n",
    "In this example, the data preprocessing steps include expanding image dimension, normalizing the image pixel values to the range [0, 1], and binarizing pixel values. We set up these processing steps using `Ops`, while also defining the data source and batch size for the `Pipeline`."
   ]
  },
  {
   "cell_type": "code",
   "execution_count": 5,
   "metadata": {
    "execution": {
     "iopub.execute_input": "2020-07-28T16:36:03.911210Z",
     "iopub.status.busy": "2020-07-28T16:36:03.910893Z",
     "iopub.status.idle": "2020-07-28T16:36:03.912449Z",
     "shell.execute_reply": "2020-07-28T16:36:03.912713Z"
    },
    "papermill": {
     "duration": 0.014413,
     "end_time": "2020-07-28T16:36:03.912778",
     "exception": false,
     "start_time": "2020-07-28T16:36:03.898365",
     "status": "completed"
    },
    "tags": []
   },
   "outputs": [],
   "source": [
    "from fastestimator.op.numpyop.univariate import Binarize, ExpandDims, Minmax\n",
    "\n",
    "pipeline = fe.Pipeline(\n",
    "    train_data=train_data,\n",
    "    batch_size=batch_size,\n",
    "    ops=[\n",
    "        ExpandDims(inputs=\"x\", outputs=\"x_out\"), # change image size: (None, 28, 28) -> (None, 28, 28, 1) \n",
    "        Minmax(inputs=\"x_out\", outputs=\"x_out\"), # normalize pixel value: [0, 255] -> [0, 1] \n",
    "        Binarize(inputs=\"x_out\", outputs=\"x_out\", threshold=0.5) # binarize pixel value\n",
    "    ])"
   ]
  },
  {
   "cell_type": "markdown",
   "metadata": {
    "papermill": {
     "duration": 0.007688,
     "end_time": "2020-07-28T16:36:03.928063",
     "exception": false,
     "start_time": "2020-07-28T16:36:03.920375",
     "status": "completed"
    },
    "tags": []
   },
   "source": [
    "### Validate `Pipeline`\n",
    "In order to make sure the pipeline works as expected, we need to visualize its output. `Pipeline.get_results` will return a batch of data for this purpose:  "
   ]
  },
  {
   "cell_type": "code",
   "execution_count": 6,
   "metadata": {
    "execution": {
     "iopub.execute_input": "2020-07-28T16:36:03.947153Z",
     "iopub.status.busy": "2020-07-28T16:36:03.946834Z",
     "iopub.status.idle": "2020-07-28T16:36:04.046680Z",
     "shell.execute_reply": "2020-07-28T16:36:04.046989Z"
    },
    "papermill": {
     "duration": 0.111133,
     "end_time": "2020-07-28T16:36:04.047063",
     "exception": false,
     "start_time": "2020-07-28T16:36:03.935930",
     "status": "completed"
    },
    "tags": []
   },
   "outputs": [
    {
     "name": "stdout",
     "output_type": "stream",
     "text": [
      "the pipeline input data size: (8, 28, 28)\n",
      "the pipeline output data size: (8, 28, 28, 1)\n"
     ]
    }
   ],
   "source": [
    "data = pipeline.get_results()\n",
    "data_xin = data[\"x\"]\n",
    "data_xout = data[\"x_out\"]\n",
    "print(\"the pipeline input data size: {}\".format(data_xin.numpy().shape))\n",
    "print(\"the pipeline output data size: {}\".format(data_xout.numpy().shape))"
   ]
  },
  {
   "cell_type": "markdown",
   "metadata": {
    "papermill": {
     "duration": 0.008162,
     "end_time": "2020-07-28T16:36:04.063545",
     "exception": false,
     "start_time": "2020-07-28T16:36:04.055383",
     "status": "completed"
    },
    "tags": []
   },
   "source": [
    "Let's randomly select 5 samples and visualize the differences between the `Pipeline` input and output."
   ]
  },
  {
   "cell_type": "code",
   "execution_count": 7,
   "metadata": {
    "execution": {
     "iopub.execute_input": "2020-07-28T16:36:04.085987Z",
     "iopub.status.busy": "2020-07-28T16:36:04.085667Z",
     "iopub.status.idle": "2020-07-28T16:36:04.685368Z",
     "shell.execute_reply": "2020-07-28T16:36:04.685614Z"
    },
    "papermill": {
     "duration": 0.613946,
     "end_time": "2020-07-28T16:36:04.685690",
     "exception": false,
     "start_time": "2020-07-28T16:36:04.071744",
     "status": "completed"
    },
    "tags": []
   },
   "outputs": [
    {
     "data": {
      "image/png": "[encoded data removed]",
      "text/plain": [
       "<Figure size 864x864 with 10 Axes>"
      ]
     },
     "metadata": {
      "needs_background": "light"
     },
     "output_type": "display_data"
    }
   ],
   "source": [
    "sample_num = 5\n",
    "\n",
    "fig, axs = plt.subplots(sample_num, 2, figsize=(12,12))\n",
    "\n",
    "axs[0,0].set_title(\"pipeline input\")\n",
    "axs[0,1].set_title(\"pipeline output\")\n",
    "\n",
    "\n",
    "for i, j in enumerate(np.random.randint(low=0, high=batch_size-1, size=sample_num)):\n",
    "    img_in = data_xin.numpy()[j]\n",
    "    axs[i,0].imshow(img_in, cmap=\"gray\")\n",
    "    \n",
    "    img_out = data_xout.numpy()[j,:,:,0]\n",
    "    axs[i,1].imshow(img_out, cmap=\"gray\")\n",
    "    "
   ]
  },
  {
   "cell_type": "markdown",
   "metadata": {
    "papermill": {
     "duration": 0.0085,
     "end_time": "2020-07-28T16:36:04.702748",
     "exception": false,
     "start_time": "2020-07-28T16:36:04.694248",
     "status": "completed"
    },
    "tags": []
   },
   "source": [
    "## Step 2 - `Network` construction\n",
    "**FastEstimator supports both PyTorch and TensorFlow, so this section could use either backend.** <br>\n",
    "We are going to only demonstrate the TensorFlow backend in this example.\n",
    "\n",
    "### Model construction\n",
    "Both of our models' definitions are implemented in TensorFlow and instantiated by calling `fe.build` (which also associates the model with specific optimizers)."
   ]
  },
  {
   "cell_type": "code",
   "execution_count": 8,
   "metadata": {
    "execution": {
     "iopub.execute_input": "2020-07-28T16:36:04.728182Z",
     "iopub.status.busy": "2020-07-28T16:36:04.727841Z",
     "iopub.status.idle": "2020-07-28T16:36:07.263785Z",
     "shell.execute_reply": "2020-07-28T16:36:07.263444Z"
    },
    "papermill": {
     "duration": 2.552704,
     "end_time": "2020-07-28T16:36:07.263853",
     "exception": false,
     "start_time": "2020-07-28T16:36:04.711149",
     "status": "completed"
    },
    "tags": []
   },
   "outputs": [],
   "source": [
    "LATENT_DIM = 50\n",
    "\n",
    "def encoder_net():\n",
    "    infer_model = tf.keras.Sequential()\n",
    "    infer_model.add(tf.keras.layers.InputLayer(input_shape=(28, 28, 1)))\n",
    "    infer_model.add(tf.keras.layers.Conv2D(filters=32, kernel_size=3, strides=(2, 2), activation='relu'))\n",
    "    infer_model.add(tf.keras.layers.Conv2D(filters=64, kernel_size=3, strides=(2, 2), activation='relu'))\n",
    "    infer_model.add(tf.keras.layers.Flatten())\n",
    "    infer_model.add(tf.keras.layers.Dense(LATENT_DIM + LATENT_DIM))\n",
    "    return infer_model\n",
    "\n",
    "\n",
    "def decoder_net():\n",
    "    generative_model = tf.keras.Sequential()\n",
    "    generative_model.add(tf.keras.layers.InputLayer(input_shape=(LATENT_DIM, )))\n",
    "    generative_model.add(tf.keras.layers.Dense(units=7 * 7 * 32, activation=tf.nn.relu))\n",
    "    generative_model.add(tf.keras.layers.Reshape(target_shape=(7, 7, 32)))\n",
    "    generative_model.add(\n",
    "        tf.keras.layers.Conv2DTranspose(filters=64, kernel_size=3, strides=(2, 2), padding=\"SAME\", activation='relu'))\n",
    "    generative_model.add(\n",
    "        tf.keras.layers.Conv2DTranspose(filters=32, kernel_size=3, strides=(2, 2), padding=\"SAME\", activation='relu'))\n",
    "    generative_model.add(tf.keras.layers.Conv2DTranspose(filters=1, kernel_size=3, strides=(1, 1), padding=\"SAME\", activation='sigmoid'))\n",
    "    return generative_model\n",
    "\n",
    "encode_model = fe.build(model_fn=encoder_net, optimizer_fn=\"adam\", model_name=\"encoder\")\n",
    "decode_model = fe.build(model_fn=decoder_net, optimizer_fn=\"adam\", model_name=\"decoder\")"
   ]
  },
  {
   "cell_type": "markdown",
   "metadata": {
    "papermill": {
     "duration": 0.008678,
     "end_time": "2020-07-28T16:36:07.281975",
     "exception": false,
     "start_time": "2020-07-28T16:36:07.273297",
     "status": "completed"
    },
    "tags": []
   },
   "source": [
    "### Customize `Ops` \n",
    "`Ops` are the basic components of a `Network`. They can be logic for loss calculation, model update units, or even the model itself. Some `Ops` such as cross entropy are pre-defined in FastEstimator, but for any logic that is not there yet, users need to define their own `Ops`. **Please keep all custom `Ops` backend-consistent with your model backend**. In this case all `Ops` need to be implemented in TensorFlow since our model is built from Tensorflow.      \n",
    "\n",
    "#### Customize Ops - SplitOp\n",
    "Because the encoder output contains both mean and log of variance, we need to split them into two outputs: "
   ]
  },
  {
   "cell_type": "code",
   "execution_count": 9,
   "metadata": {
    "execution": {
     "iopub.execute_input": "2020-07-28T16:36:07.304108Z",
     "iopub.status.busy": "2020-07-28T16:36:07.303780Z",
     "iopub.status.idle": "2020-07-28T16:36:07.305990Z",
     "shell.execute_reply": "2020-07-28T16:36:07.305545Z"
    },
    "papermill": {
     "duration": 0.014736,
     "end_time": "2020-07-28T16:36:07.306064",
     "exception": false,
     "start_time": "2020-07-28T16:36:07.291328",
     "status": "completed"
    },
    "tags": []
   },
   "outputs": [],
   "source": [
    "from fastestimator.op.tensorop import TensorOp\n",
    "\n",
    "class SplitOp(TensorOp):\n",
    "    \"\"\"To split the infer net output into two \"\"\"\n",
    "    def forward(self, data: tf.Tensor, state: Dict[str, Any]) -> Tuple[tf.Tensor, tf.Tensor]:\n",
    "        mean, logvar = tf.split(data, num_or_size_splits=2, axis=1)\n",
    "        return mean, logvar"
   ]
  },
  {
   "cell_type": "markdown",
   "metadata": {
    "papermill": {
     "duration": 0.009478,
     "end_time": "2020-07-28T16:36:07.324597",
     "exception": false,
     "start_time": "2020-07-28T16:36:07.315119",
     "status": "completed"
    },
    "tags": []
   },
   "source": [
    "#### Customize Ops - ReparameterizeOp\n",
    "In this example case, the input to the decoder is a random sample from a normal distribution whose mean and variation are the output of the encoder. We are going to build an `Op` called \"ReparameterizeOp\" to accomplish this:"
   ]
  },
  {
   "cell_type": "code",
   "execution_count": 10,
   "metadata": {
    "execution": {
     "iopub.execute_input": "2020-07-28T16:36:07.346099Z",
     "iopub.status.busy": "2020-07-28T16:36:07.345779Z",
     "iopub.status.idle": "2020-07-28T16:36:07.347333Z",
     "shell.execute_reply": "2020-07-28T16:36:07.347015Z"
    },
    "papermill": {
     "duration": 0.013862,
     "end_time": "2020-07-28T16:36:07.347393",
     "exception": false,
     "start_time": "2020-07-28T16:36:07.333531",
     "status": "completed"
    },
    "tags": []
   },
   "outputs": [],
   "source": [
    "class ReparameterizeOp(TensorOp):\n",
    "    def forward(self, data: Tuple[tf.Tensor, tf.Tensor], state: Dict[str, Any]) -> tf.Tensor:\n",
    "        mean, logvar = data\n",
    "        eps = tf.random.normal(shape=mean.shape)\n",
    "        return eps * tf.exp(logvar * .5) + mean"
   ]
  },
  {
   "cell_type": "markdown",
   "metadata": {
    "papermill": {
     "duration": 0.008896,
     "end_time": "2020-07-28T16:36:07.365288",
     "exception": false,
     "start_time": "2020-07-28T16:36:07.356392",
     "status": "completed"
    },
    "tags": []
   },
   "source": [
    "#### Customize Ops - CVAELoss"
   ]
  },
  {
   "cell_type": "code",
   "execution_count": 11,
   "metadata": {
    "execution": {
     "iopub.execute_input": "2020-07-28T16:36:07.388121Z",
     "iopub.status.busy": "2020-07-28T16:36:07.387786Z",
     "iopub.status.idle": "2020-07-28T16:36:07.389285Z",
     "shell.execute_reply": "2020-07-28T16:36:07.389545Z"
    },
    "papermill": {
     "duration": 0.015206,
     "end_time": "2020-07-28T16:36:07.389626",
     "exception": false,
     "start_time": "2020-07-28T16:36:07.374420",
     "status": "completed"
    },
    "tags": []
   },
   "outputs": [],
   "source": [
    "import math\n",
    "\n",
    "class CVAELoss(TensorOp):\n",
    "    def forward(self, data: Tuple[tf.Tensor, ...], state: Dict[str, Any]) -> tf.Tensor:\n",
    "        cross_ent_mean, mean, logvar, z = data   \n",
    "        \n",
    "        cross_ent_total = cross_ent_mean * (28 * 28 * 1) # cross_ent_mean is the average cross entropy over pixels and batches \n",
    "                                                         # make it total cross entropy over pixels \n",
    "        logpz = self._log_normal_pdf(z, 0., 0.)\n",
    "        logqz_x = self._log_normal_pdf(z, mean, logvar)\n",
    "        total_loss = cross_ent_total + tf.reduce_mean(-logpz + logqz_x)\n",
    "\n",
    "        return total_loss\n",
    "    \n",
    "    @staticmethod\n",
    "    def _log_normal_pdf(sample, mean, logvar, raxis=1):\n",
    "        log2pi = tf.math.log(2. * tf.constant(math.pi))\n",
    "        return tf.reduce_sum(-.5 * ((sample - mean)**2. * tf.exp(-logvar) + logvar + log2pi), axis=raxis)"
   ]
  },
  {
   "cell_type": "markdown",
   "metadata": {
    "papermill": {
     "duration": 0.00907,
     "end_time": "2020-07-28T16:36:07.407635",
     "exception": false,
     "start_time": "2020-07-28T16:36:07.398565",
     "status": "completed"
    },
    "tags": []
   },
   "source": [
    "### `Network` definition\n",
    "We are going to connect all models and `Ops` together into a `Network` "
   ]
  },
  {
   "cell_type": "code",
   "execution_count": 12,
   "metadata": {
    "execution": {
     "iopub.execute_input": "2020-07-28T16:36:07.436194Z",
     "iopub.status.busy": "2020-07-28T16:36:07.432134Z",
     "iopub.status.idle": "2020-07-28T16:36:07.437513Z",
     "shell.execute_reply": "2020-07-28T16:36:07.437780Z"
    },
    "papermill": {
     "duration": 0.02125,
     "end_time": "2020-07-28T16:36:07.437868",
     "exception": false,
     "start_time": "2020-07-28T16:36:07.416618",
     "status": "completed"
    },
    "tags": []
   },
   "outputs": [],
   "source": [
    "from fastestimator.op.tensorop.loss import CrossEntropy\n",
    "from fastestimator.op.tensorop.model import ModelOp, UpdateOp\n",
    "\n",
    "network = fe.Network(ops=[\n",
    "    ModelOp(model=encode_model, inputs=\"x_out\", outputs=\"meanlogvar\"),\n",
    "    SplitOp(inputs=\"meanlogvar\", outputs=(\"mean\", \"logvar\")),\n",
    "    ReparameterizeOp(inputs=(\"mean\", \"logvar\"), outputs=\"z\"), \n",
    "    ModelOp(model=decode_model, inputs=\"z\", outputs=\"x_logit\"),\n",
    "    CrossEntropy(inputs=(\"x_logit\", \"x_out\"), outputs=\"cross_entropy\"), \n",
    "    CVAELoss(inputs=(\"cross_entropy\", \"mean\", \"logvar\", \"z\"), outputs=\"loss\", mode=\"!infer\"),\n",
    "    UpdateOp(model=encode_model, loss_name=\"loss\"),\n",
    "    UpdateOp(model=decode_model, loss_name=\"loss\"),\n",
    "])"
   ]
  },
  {
   "cell_type": "markdown",
   "metadata": {
    "papermill": {
     "duration": 0.009158,
     "end_time": "2020-07-28T16:36:07.456214",
     "exception": false,
     "start_time": "2020-07-28T16:36:07.447056",
     "status": "completed"
    },
    "tags": []
   },
   "source": [
    "## Step 3 - `Estimator` definition and training\n",
    "In this step, we define the `Estimator` to compile the `Network` and `Pipeline` and indicate in `traces` that we want to save the best models. We can then use `estimator.fit()` to start the training process:"
   ]
  },
  {
   "cell_type": "code",
   "execution_count": 13,
   "metadata": {
    "execution": {
     "iopub.execute_input": "2020-07-28T16:36:07.481109Z",
     "iopub.status.busy": "2020-07-28T16:36:07.480783Z",
     "iopub.status.idle": "2020-07-28T16:36:11.974355Z",
     "shell.execute_reply": "2020-07-28T16:36:11.974603Z"
    },
    "papermill": {
     "duration": 4.509297,
     "end_time": "2020-07-28T16:36:11.974679",
     "exception": false,
     "start_time": "2020-07-28T16:36:07.465382",
     "status": "completed"
    },
    "tags": []
   },
   "outputs": [
    {
     "name": "stdout",
     "output_type": "stream",
     "text": [
      "    ______           __  ______     __  _                 __            \n",
      "   / ____/___ ______/ /_/ ____/____/ /_(_)___ ___  ____ _/ /_____  _____\n",
      "  / /_  / __ `/ ___/ __/ __/ / ___/ __/ / __ `__ \\/ __ `/ __/ __ \\/ ___/\n",
      " / __/ / /_/ (__  ) /_/ /___(__  ) /_/ / / / / / / /_/ / /_/ /_/ / /    \n",
      "/_/    \\__,_/____/\\__/_____/____/\\__/_/_/ /_/ /_/\\__,_/\\__/\\____/_/     \n",
      "                                                                        \n",
      "\n"
     ]
    },
    {
     "name": "stdout",
     "output_type": "stream",
     "text": [
      "FastEstimator-Start: step: 1; num_device: 1; logging_interval: 600; \n"
     ]
    },
    {
     "name": "stdout",
     "output_type": "stream",
     "text": [
      "FastEstimator-Train: step: 1; loss: 547.3221; \n",
      "FastEstimator-Train: step: 10; epoch: 1; epoch_time: 0.77 sec; \n"
     ]
    },
    {
     "name": "stdout",
     "output_type": "stream",
     "text": [
      "FastEstimator-ModelSaver: Saved model to /tmp/tmp7r15a635/encoder_epoch_2.h5\n",
      "FastEstimator-ModelSaver: Saved model to /tmp/tmp7r15a635/decoder_epoch_2.h5\n",
      "FastEstimator-Train: step: 20; epoch: 2; epoch_time: 0.11 sec; \n",
      "FastEstimator-Finish: step: 20; total_time: 1.56 sec; decoder_lr: 0.001; encoder_lr: 0.001; \n"
     ]
    }
   ],
   "source": [
    "from fastestimator.trace.io import ModelSaver\n",
    "\n",
    "traces = [ModelSaver(model=encode_model, save_dir=save_dir, frequency=epochs), \n",
    "          ModelSaver(model=decode_model, save_dir=save_dir, frequency=epochs)]\n",
    "\n",
    "estimator = fe.Estimator(pipeline=pipeline,\n",
    "                         network=network,\n",
    "                         epochs=epochs,\n",
    "                         traces=traces,\n",
    "                         max_train_steps_per_epoch=max_train_steps_per_epoch,\n",
    "                         log_steps=600)\n",
    "\n",
    "estimator.fit() # start the training process"
   ]
  },
  {
   "cell_type": "markdown",
   "metadata": {
    "papermill": {
     "duration": 0.009734,
     "end_time": "2020-07-28T16:36:11.995047",
     "exception": false,
     "start_time": "2020-07-28T16:36:11.985313",
     "status": "completed"
    },
    "tags": []
   },
   "source": [
    "## Inferencing\n",
    "\n",
    "Once the model is trained, we will try to run our models on some testing data. We randomly select 5 images from the testing dataset and infer them image by image:"
   ]
  },
  {
   "cell_type": "code",
   "execution_count": 14,
   "metadata": {
    "execution": {
     "iopub.execute_input": "2020-07-28T16:36:12.019442Z",
     "iopub.status.busy": "2020-07-28T16:36:12.019118Z",
     "iopub.status.idle": "2020-07-28T16:36:13.042492Z",
     "shell.execute_reply": "2020-07-28T16:36:13.042200Z"
    },
    "papermill": {
     "duration": 1.037853,
     "end_time": "2020-07-28T16:36:13.042555",
     "exception": false,
     "start_time": "2020-07-28T16:36:12.004702",
     "status": "completed"
    },
    "scrolled": true,
    "tags": []
   },
   "outputs": [
    {
     "data": {
      "image/png": "[encoded data removed]",
      "text/plain": [
       "<Figure size 864x864 with 15 Axes>"
      ]
     },
     "metadata": {
      "needs_background": "light"
     },
     "output_type": "display_data"
    }
   ],
   "source": [
    "sample_num = 5\n",
    "\n",
    "fig, axs = plt.subplots(sample_num, 3, figsize=(12,12))\n",
    "\n",
    "axs[0,0].set_title(\"pipeline input\")\n",
    "axs[0,1].set_title(\"pipeline output\")\n",
    "axs[0,2].set_title(\"decoder output\")\n",
    "\n",
    "for i, j in enumerate(np.random.randint(low=0, high=batch_size-1, size=sample_num)):\n",
    "    data = {\"x\": test_data[\"x\"][j]}\n",
    "    axs[i,0].imshow(data[\"x\"], cmap=\"gray\")\n",
    "    \n",
    "    # run the pipeline\n",
    "    data = pipeline.transform(data, mode=\"infer\") \n",
    "    img = data[\"x_out\"].squeeze(axis=(0,3))\n",
    "    axs[i,1].imshow(img, cmap=\"gray\")\n",
    "    \n",
    "    # run the network\n",
    "    data = network.transform(data, mode=\"infer\")\n",
    "    img = data[\"x_logit\"].numpy().squeeze(axis=(0,3))\n",
    "    axs[i,2].imshow(img, cmap=\"gray\")"
   ]
  }
 ],
 "metadata": {
  "celltoolbar": "Tags",
  "kernelspec": {
   "display_name": "Python 3",
   "language": "python",
   "name": "python3"
  },
  "language_info": {
   "codemirror_mode": {
    "name": "ipython",
    "version": 3
   },
   "file_extension": ".py",
   "mimetype": "text/x-python",
   "name": "python",
   "nbconvert_exporter": "python",
   "pygments_lexer": "ipython3",
   "version": "3.6.10"
  },
  "papermill": {
   "duration": 14.965378,
   "end_time": "2020-07-28T16:36:14.059454",
   "environment_variables": {},
   "exception": null,
   "input_path": "/home/geez219/python_project/fastestimator/apphub/image_generation/cvae/cvae.ipynb",
   "output_path": "/home/geez219/python_project/fastestimator/test/apphub_scripts/image_generation/cvae/cvae_out.ipynb",
   "parameters": {
    "batch_size": 8,
    "epochs": 2,
    "max_train_steps_per_epoch": 10
   },
   "start_time": "2020-07-28T16:35:59.094076",
   "version": "2.1.1"
  }
 },
 "nbformat": 4,
 "nbformat_minor": 4
}