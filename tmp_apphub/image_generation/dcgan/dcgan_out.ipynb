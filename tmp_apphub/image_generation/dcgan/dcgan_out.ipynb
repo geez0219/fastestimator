{
 "cells": [
  {
   "cell_type": "markdown",
   "metadata": {
    "papermill": {
     "duration": 0.014223,
     "end_time": "2020-07-09T06:32:53.992045",
     "exception": false,
     "start_time": "2020-07-09T06:32:53.977822",
     "status": "completed"
    },
    "tags": []
   },
   "source": [
    "# DCGAN on the MNIST Dataset"
   ]
  },
  {
   "cell_type": "code",
   "execution_count": 1,
   "metadata": {
    "execution": {
     "iopub.execute_input": "2020-07-09T06:32:54.013069Z",
     "iopub.status.busy": "2020-07-09T06:32:54.012728Z",
     "iopub.status.idle": "2020-07-09T06:32:56.541817Z",
     "shell.execute_reply": "2020-07-09T06:32:56.542076Z"
    },
    "papermill": {
     "duration": 2.54104,
     "end_time": "2020-07-09T06:32:56.542162",
     "exception": false,
     "start_time": "2020-07-09T06:32:54.001122",
     "status": "completed"
    },
    "tags": []
   },
   "outputs": [],
   "source": [
    "import tempfile\n",
    "import os\n",
    "import numpy as np\n",
    "import tensorflow as tf\n",
    "from tensorflow.python.keras import layers\n",
    "from matplotlib import pyplot as plt\n",
    "import fastestimator as fe\n",
    "from fastestimator.backend import binary_crossentropy, feed_forward\n",
    "from fastestimator.dataset.data import mnist\n",
    "from fastestimator.op import LambdaOp\n",
    "from fastestimator.op.numpyop.univariate import ExpandDims, Normalize\n",
    "from fastestimator.op.tensorop import TensorOp\n",
    "from fastestimator.op.tensorop.model import ModelOp, UpdateOp\n",
    "from fastestimator.trace.io import ModelSaver"
   ]
  },
  {
   "cell_type": "code",
   "execution_count": 2,
   "metadata": {
    "execution": {
     "iopub.execute_input": "2020-07-09T06:32:56.571408Z",
     "iopub.status.busy": "2020-07-09T06:32:56.571053Z",
     "iopub.status.idle": "2020-07-09T06:32:56.572404Z",
     "shell.execute_reply": "2020-07-09T06:32:56.572657Z"
    },
    "papermill": {
     "duration": 0.018288,
     "end_time": "2020-07-09T06:32:56.572735",
     "exception": false,
     "start_time": "2020-07-09T06:32:56.554447",
     "status": "completed"
    },
    "tags": [
     "parameters"
    ]
   },
   "outputs": [],
   "source": [
    "batch_size = 256\n",
    "epochs = 50\n",
    "max_train_steps_per_epoch = None\n",
    "save_dir = tempfile.mkdtemp()\n",
    "model_name = 'model_epoch_50.h5'"
   ]
  },
  {
   "cell_type": "code",
   "execution_count": 3,
   "metadata": {
    "execution": {
     "iopub.execute_input": "2020-07-09T06:32:56.593035Z",
     "iopub.status.busy": "2020-07-09T06:32:56.592706Z",
     "iopub.status.idle": "2020-07-09T06:32:56.594260Z",
     "shell.execute_reply": "2020-07-09T06:32:56.593995Z"
    },
    "papermill": {
     "duration": 0.013216,
     "end_time": "2020-07-09T06:32:56.594322",
     "exception": false,
     "start_time": "2020-07-09T06:32:56.581106",
     "status": "completed"
    },
    "tags": [
     "injected-parameters"
    ]
   },
   "outputs": [],
   "source": [
    "# Parameters\n",
    "epochs = 5\n",
    "batch_size = 8\n",
    "max_train_steps_per_epoch = 10\n",
    "model_name = \"model_epoch_5.h5\"\n"
   ]
  },
  {
   "cell_type": "markdown",
   "metadata": {
    "papermill": {
     "duration": 0.008545,
     "end_time": "2020-07-09T06:32:56.612736",
     "exception": false,
     "start_time": "2020-07-09T06:32:56.604191",
     "status": "completed"
    },
    "tags": []
   },
   "source": [
    "<h2>Building components</h2>"
   ]
  },
  {
   "cell_type": "markdown",
   "metadata": {
    "papermill": {
     "duration": 0.008366,
     "end_time": "2020-07-09T06:32:56.629502",
     "exception": false,
     "start_time": "2020-07-09T06:32:56.621136",
     "status": "completed"
    },
    "tags": []
   },
   "source": [
    "### Step 1: Prepare training and define a `Pipeline`"
   ]
  },
  {
   "cell_type": "markdown",
   "metadata": {
    "papermill": {
     "duration": 0.008411,
     "end_time": "2020-07-09T06:32:56.646427",
     "exception": false,
     "start_time": "2020-07-09T06:32:56.638016",
     "status": "completed"
    },
    "tags": []
   },
   "source": [
    "We are loading data from tf.keras.datasets.mnist and defining a series of operations to perform on the data before the training:"
   ]
  },
  {
   "cell_type": "code",
   "execution_count": 4,
   "metadata": {
    "execution": {
     "iopub.execute_input": "2020-07-09T06:32:56.666591Z",
     "iopub.status.busy": "2020-07-09T06:32:56.666260Z",
     "iopub.status.idle": "2020-07-09T06:32:56.896306Z",
     "shell.execute_reply": "2020-07-09T06:32:56.896571Z"
    },
    "papermill": {
     "duration": 0.241841,
     "end_time": "2020-07-09T06:32:56.896653",
     "exception": false,
     "start_time": "2020-07-09T06:32:56.654812",
     "status": "completed"
    },
    "tags": []
   },
   "outputs": [],
   "source": [
    "train_data, _ = mnist.load_data()\n",
    "pipeline = fe.Pipeline(\n",
    "    train_data=train_data,\n",
    "    batch_size=batch_size,\n",
    "    ops=[\n",
    "        ExpandDims(inputs=\"x\", outputs=\"x\"),\n",
    "        Normalize(inputs=\"x\", outputs=\"x\", mean=1.0, std=1.0, max_pixel_value=127.5),\n",
    "        LambdaOp(fn=lambda: np.random.normal(size=[100]).astype('float32'), outputs=\"z\")\n",
    "    ])"
   ]
  },
  {
   "cell_type": "markdown",
   "metadata": {
    "papermill": {
     "duration": 0.00846,
     "end_time": "2020-07-09T06:32:56.913533",
     "exception": false,
     "start_time": "2020-07-09T06:32:56.905073",
     "status": "completed"
    },
    "tags": []
   },
   "source": [
    "### Step 2: Create a `model` and FastEstimator `Network`"
   ]
  },
  {
   "cell_type": "markdown",
   "metadata": {
    "papermill": {
     "duration": 0.008391,
     "end_time": "2020-07-09T06:32:56.930666",
     "exception": false,
     "start_time": "2020-07-09T06:32:56.922275",
     "status": "completed"
    },
    "tags": []
   },
   "source": [
    "First, we have to define the network architecture for both our <b>Generator</b> and <b>Discriminator</b>. After defining the architecture, users are expected to feed the architecture definition, along with associated model names and optimizers, to fe.build."
   ]
  },
  {
   "cell_type": "code",
   "execution_count": 5,
   "metadata": {
    "execution": {
     "iopub.execute_input": "2020-07-09T06:32:56.952685Z",
     "iopub.status.busy": "2020-07-09T06:32:56.952352Z",
     "iopub.status.idle": "2020-07-09T06:32:56.953830Z",
     "shell.execute_reply": "2020-07-09T06:32:56.953517Z"
    },
    "papermill": {
     "duration": 0.014675,
     "end_time": "2020-07-09T06:32:56.953890",
     "exception": false,
     "start_time": "2020-07-09T06:32:56.939215",
     "status": "completed"
    },
    "tags": []
   },
   "outputs": [],
   "source": [
    "def generator():\n",
    "    model = tf.keras.Sequential()\n",
    "    model.add(layers.Dense(7 * 7 * 256, use_bias=False, input_shape=(100, )))\n",
    "    model.add(layers.BatchNormalization())\n",
    "    model.add(layers.LeakyReLU())\n",
    "    model.add(layers.Reshape((7, 7, 256)))\n",
    "    model.add(layers.Conv2DTranspose(128, (5, 5), strides=(1, 1), padding='same', use_bias=False))\n",
    "    model.add(layers.BatchNormalization())\n",
    "    model.add(layers.LeakyReLU())\n",
    "    model.add(layers.Conv2DTranspose(64, (5, 5), strides=(2, 2), padding='same', use_bias=False))\n",
    "    model.add(layers.BatchNormalization())\n",
    "    model.add(layers.LeakyReLU())\n",
    "    model.add(layers.Conv2DTranspose(1, (5, 5), strides=(2, 2), padding='same', use_bias=False, activation='tanh'))\n",
    "    return model"
   ]
  },
  {
   "cell_type": "code",
   "execution_count": 6,
   "metadata": {
    "execution": {
     "iopub.execute_input": "2020-07-09T06:32:56.975166Z",
     "iopub.status.busy": "2020-07-09T06:32:56.974807Z",
     "iopub.status.idle": "2020-07-09T06:32:56.976477Z",
     "shell.execute_reply": "2020-07-09T06:32:56.976180Z"
    },
    "papermill": {
     "duration": 0.01408,
     "end_time": "2020-07-09T06:32:56.976538",
     "exception": false,
     "start_time": "2020-07-09T06:32:56.962458",
     "status": "completed"
    },
    "tags": []
   },
   "outputs": [],
   "source": [
    "def discriminator():\n",
    "    model = tf.keras.Sequential()\n",
    "    model.add(layers.Conv2D(64, (5, 5), strides=(2, 2), padding='same', input_shape=[28, 28, 1]))\n",
    "    model.add(layers.LeakyReLU())\n",
    "    model.add(layers.Dropout(0.3))\n",
    "    model.add(layers.Conv2D(128, (5, 5), strides=(2, 2), padding='same'))\n",
    "    model.add(layers.LeakyReLU())\n",
    "    model.add(layers.Dropout(0.3))\n",
    "    model.add(layers.Flatten())\n",
    "    model.add(layers.Dense(1))\n",
    "    return model"
   ]
  },
  {
   "cell_type": "code",
   "execution_count": 7,
   "metadata": {
    "execution": {
     "iopub.execute_input": "2020-07-09T06:32:57.006694Z",
     "iopub.status.busy": "2020-07-09T06:32:57.005531Z",
     "iopub.status.idle": "2020-07-09T06:32:57.332108Z",
     "shell.execute_reply": "2020-07-09T06:32:57.331782Z"
    },
    "papermill": {
     "duration": 0.347032,
     "end_time": "2020-07-09T06:32:57.332175",
     "exception": false,
     "start_time": "2020-07-09T06:32:56.985143",
     "status": "completed"
    },
    "tags": []
   },
   "outputs": [],
   "source": [
    "gen_model = fe.build(model_fn=generator, optimizer_fn=lambda: tf.optimizers.Adam(1e-4))\n",
    "disc_model = fe.build(model_fn=discriminator, optimizer_fn=lambda: tf.optimizers.Adam(1e-4))"
   ]
  },
  {
   "cell_type": "markdown",
   "metadata": {
    "papermill": {
     "duration": 0.008932,
     "end_time": "2020-07-09T06:32:57.352056",
     "exception": false,
     "start_time": "2020-07-09T06:32:57.343124",
     "status": "completed"
    },
    "tags": []
   },
   "source": [
    "We define the generator and discriminator losses. These can have multiple inputs and outputs."
   ]
  },
  {
   "cell_type": "code",
   "execution_count": 8,
   "metadata": {
    "execution": {
     "iopub.execute_input": "2020-07-09T06:32:57.372575Z",
     "iopub.status.busy": "2020-07-09T06:32:57.372234Z",
     "iopub.status.idle": "2020-07-09T06:32:57.373444Z",
     "shell.execute_reply": "2020-07-09T06:32:57.373718Z"
    },
    "papermill": {
     "duration": 0.012995,
     "end_time": "2020-07-09T06:32:57.373788",
     "exception": false,
     "start_time": "2020-07-09T06:32:57.360793",
     "status": "completed"
    },
    "tags": []
   },
   "outputs": [],
   "source": [
    "class GLoss(TensorOp):\n",
    "    \"\"\"Compute generator loss.\"\"\"\n",
    "    def forward(self, data, state):\n",
    "        return binary_crossentropy(y_pred=data, y_true=tf.ones_like(data), from_logits=True)"
   ]
  },
  {
   "cell_type": "code",
   "execution_count": 9,
   "metadata": {
    "execution": {
     "iopub.execute_input": "2020-07-09T06:32:57.394192Z",
     "iopub.status.busy": "2020-07-09T06:32:57.393869Z",
     "iopub.status.idle": "2020-07-09T06:32:57.395468Z",
     "shell.execute_reply": "2020-07-09T06:32:57.395199Z"
    },
    "papermill": {
     "duration": 0.013101,
     "end_time": "2020-07-09T06:32:57.395527",
     "exception": false,
     "start_time": "2020-07-09T06:32:57.382426",
     "status": "completed"
    },
    "tags": []
   },
   "outputs": [],
   "source": [
    "class DLoss(TensorOp):\n",
    "    \"\"\"Compute discriminator loss.\"\"\"\n",
    "    def forward(self, data, state):\n",
    "        true_score, fake_score = data\n",
    "        real_loss = binary_crossentropy(y_pred=true_score, y_true=tf.ones_like(true_score), from_logits=True)\n",
    "        fake_loss = binary_crossentropy(y_pred=fake_score, y_true=tf.zeros_like(fake_score), from_logits=True)\n",
    "        total_loss = real_loss + fake_loss\n",
    "        return total_loss"
   ]
  },
  {
   "cell_type": "markdown",
   "metadata": {
    "papermill": {
     "duration": 0.008935,
     "end_time": "2020-07-09T06:32:57.413334",
     "exception": false,
     "start_time": "2020-07-09T06:32:57.404399",
     "status": "completed"
    },
    "tags": []
   },
   "source": [
    "`fe.Network` takes series of operators. Here we pass our models wrapped into `ModelOps` along with our loss functions and some update rules:"
   ]
  },
  {
   "cell_type": "code",
   "execution_count": 10,
   "metadata": {
    "execution": {
     "iopub.execute_input": "2020-07-09T06:32:57.439921Z",
     "iopub.status.busy": "2020-07-09T06:32:57.439593Z",
     "iopub.status.idle": "2020-07-09T06:32:57.440933Z",
     "shell.execute_reply": "2020-07-09T06:32:57.441211Z"
    },
    "papermill": {
     "duration": 0.018858,
     "end_time": "2020-07-09T06:32:57.441283",
     "exception": false,
     "start_time": "2020-07-09T06:32:57.422425",
     "status": "completed"
    },
    "tags": []
   },
   "outputs": [],
   "source": [
    "network = fe.Network(ops=[\n",
    "        ModelOp(model=gen_model, inputs=\"z\", outputs=\"x_fake\"),\n",
    "        ModelOp(model=disc_model, inputs=\"x_fake\", outputs=\"fake_score\"),\n",
    "        GLoss(inputs=\"fake_score\", outputs=\"gloss\"),\n",
    "        UpdateOp(model=gen_model, loss_name=\"gloss\"),\n",
    "        ModelOp(inputs=\"x\", model=disc_model, outputs=\"true_score\"),\n",
    "        DLoss(inputs=(\"true_score\", \"fake_score\"), outputs=\"dloss\"),\n",
    "        UpdateOp(model=disc_model, loss_name=\"dloss\")\n",
    "    ])"
   ]
  },
  {
   "cell_type": "markdown",
   "metadata": {
    "papermill": {
     "duration": 0.009043,
     "end_time": "2020-07-09T06:32:57.459305",
     "exception": false,
     "start_time": "2020-07-09T06:32:57.450262",
     "status": "completed"
    },
    "tags": []
   },
   "source": [
    "### Step 3: Prepare `Estimator` and configure the training loop"
   ]
  },
  {
   "cell_type": "markdown",
   "metadata": {
    "papermill": {
     "duration": 0.008911,
     "end_time": "2020-07-09T06:32:57.477106",
     "exception": false,
     "start_time": "2020-07-09T06:32:57.468195",
     "status": "completed"
    },
    "tags": []
   },
   "source": [
    "We will define an `Estimator` that has four notable arguments: network, pipeline, epochs and traces. Our `Network` and `Pipeline` objects are passed here as an argument along with the number of epochs and a `Trace`, in this case one designed to save our model every 5 epochs."
   ]
  },
  {
   "cell_type": "code",
   "execution_count": 11,
   "metadata": {
    "execution": {
     "iopub.execute_input": "2020-07-09T06:32:57.497931Z",
     "iopub.status.busy": "2020-07-09T06:32:57.497603Z",
     "iopub.status.idle": "2020-07-09T06:32:57.498885Z",
     "shell.execute_reply": "2020-07-09T06:32:57.499150Z"
    },
    "papermill": {
     "duration": 0.013313,
     "end_time": "2020-07-09T06:32:57.499221",
     "exception": false,
     "start_time": "2020-07-09T06:32:57.485908",
     "status": "completed"
    },
    "tags": []
   },
   "outputs": [],
   "source": [
    "traces=ModelSaver(model=gen_model, save_dir=save_dir, frequency=5)"
   ]
  },
  {
   "cell_type": "code",
   "execution_count": 12,
   "metadata": {
    "execution": {
     "iopub.execute_input": "2020-07-09T06:32:57.522119Z",
     "iopub.status.busy": "2020-07-09T06:32:57.521795Z",
     "iopub.status.idle": "2020-07-09T06:32:57.523297Z",
     "shell.execute_reply": "2020-07-09T06:32:57.523040Z"
    },
    "papermill": {
     "duration": 0.014742,
     "end_time": "2020-07-09T06:32:57.523360",
     "exception": false,
     "start_time": "2020-07-09T06:32:57.508618",
     "status": "completed"
    },
    "tags": []
   },
   "outputs": [],
   "source": [
    "estimator = fe.Estimator(pipeline=pipeline,\n",
    "                         network=network,\n",
    "                         epochs=epochs,\n",
    "                         traces=traces,\n",
    "                         max_train_steps_per_epoch=max_train_steps_per_epoch)"
   ]
  },
  {
   "cell_type": "markdown",
   "metadata": {
    "papermill": {
     "duration": 0.009505,
     "end_time": "2020-07-09T06:32:57.541992",
     "exception": false,
     "start_time": "2020-07-09T06:32:57.532487",
     "status": "completed"
    },
    "tags": []
   },
   "source": [
    "<h2>Training</h2>"
   ]
  },
  {
   "cell_type": "code",
   "execution_count": 13,
   "metadata": {
    "execution": {
     "iopub.execute_input": "2020-07-09T06:32:57.563316Z",
     "iopub.status.busy": "2020-07-09T06:32:57.562990Z",
     "iopub.status.idle": "2020-07-09T06:33:03.555137Z",
     "shell.execute_reply": "2020-07-09T06:33:03.554816Z"
    },
    "papermill": {
     "duration": 6.003673,
     "end_time": "2020-07-09T06:33:03.555202",
     "exception": false,
     "start_time": "2020-07-09T06:32:57.551529",
     "status": "completed"
    },
    "tags": []
   },
   "outputs": [
    {
     "name": "stdout",
     "output_type": "stream",
     "text": [
      "    ______           __  ______     __  _                 __            \n",
      "   / ____/___ ______/ /_/ ____/____/ /_(_)___ ___  ____ _/ /_____  _____\n",
      "  / /_  / __ `/ ___/ __/ __/ / ___/ __/ / __ `__ \\/ __ `/ __/ __ \\/ ___/\n",
      " / __/ / /_/ (__  ) /_/ /___(__  ) /_/ / / / / / / /_/ / /_/ /_/ / /    \n",
      "/_/    \\__,_/____/\\__/_____/____/\\__/_/_/ /_/ /_/\\__,_/\\__/\\____/_/     \n",
      "                                                                        \n",
      "\n"
     ]
    },
    {
     "name": "stdout",
     "output_type": "stream",
     "text": [
      "FastEstimator-Start: step: 1; num_device: 0; logging_interval: 100; \n"
     ]
    },
    {
     "name": "stdout",
     "output_type": "stream",
     "text": [
      "FastEstimator-Train: step: 1; dloss: 1.3402084; gloss: 0.67782855; \n",
      "FastEstimator-Train: step: 10; epoch: 1; epoch_time: 0.98 sec; \n"
     ]
    },
    {
     "name": "stdout",
     "output_type": "stream",
     "text": [
      "FastEstimator-Train: step: 20; epoch: 2; epoch_time: 0.66 sec; \n"
     ]
    },
    {
     "name": "stdout",
     "output_type": "stream",
     "text": [
      "FastEstimator-Train: step: 30; epoch: 3; epoch_time: 0.64 sec; \n"
     ]
    },
    {
     "name": "stdout",
     "output_type": "stream",
     "text": [
      "FastEstimator-Train: step: 40; epoch: 4; epoch_time: 0.64 sec; \n"
     ]
    },
    {
     "name": "stdout",
     "output_type": "stream",
     "text": [
      "FastEstimator-ModelSaver: Saved model to /tmp/tmpy64ho1fb/model_epoch_5.h5\n",
      "FastEstimator-Train: step: 50; epoch: 5; epoch_time: 0.75 sec; \n",
      "FastEstimator-Finish: step: 50; total_time: 4.43 sec; model_lr: 1e-04; model1_lr: 1e-04; \n"
     ]
    }
   ],
   "source": [
    "estimator.fit()"
   ]
  },
  {
   "cell_type": "markdown",
   "metadata": {
    "papermill": {
     "duration": 0.010417,
     "end_time": "2020-07-09T06:33:03.576102",
     "exception": false,
     "start_time": "2020-07-09T06:33:03.565685",
     "status": "completed"
    },
    "tags": []
   },
   "source": [
    "<h2>Inferencing</h2>"
   ]
  },
  {
   "cell_type": "markdown",
   "metadata": {
    "papermill": {
     "duration": 0.010293,
     "end_time": "2020-07-09T06:33:03.596653",
     "exception": false,
     "start_time": "2020-07-09T06:33:03.586360",
     "status": "completed"
    },
    "tags": []
   },
   "source": [
    "For inferencing, first we have to load the trained model weights. We will load the trained generator weights using <i>fe.build</i>"
   ]
  },
  {
   "cell_type": "code",
   "execution_count": 14,
   "metadata": {
    "execution": {
     "iopub.execute_input": "2020-07-09T06:33:03.623818Z",
     "iopub.status.busy": "2020-07-09T06:33:03.623485Z",
     "iopub.status.idle": "2020-07-09T06:33:03.740887Z",
     "shell.execute_reply": "2020-07-09T06:33:03.740588Z"
    },
    "papermill": {
     "duration": 0.133552,
     "end_time": "2020-07-09T06:33:03.740956",
     "exception": false,
     "start_time": "2020-07-09T06:33:03.607404",
     "status": "completed"
    },
    "tags": []
   },
   "outputs": [],
   "source": [
    "model_path = os.path.join(save_dir, model_name)\n",
    "trained_model = fe.build(model_fn=generator, weights_path=model_path, optimizer_fn=lambda: tf.optimizers.Adam(1e-4))"
   ]
  },
  {
   "cell_type": "markdown",
   "metadata": {
    "papermill": {
     "duration": 0.010352,
     "end_time": "2020-07-09T06:33:03.761684",
     "exception": false,
     "start_time": "2020-07-09T06:33:03.751332",
     "status": "completed"
    },
    "tags": []
   },
   "source": [
    "We will the generate some images from random noise:"
   ]
  },
  {
   "cell_type": "code",
   "execution_count": 15,
   "metadata": {
    "execution": {
     "iopub.execute_input": "2020-07-09T06:33:03.785422Z",
     "iopub.status.busy": "2020-07-09T06:33:03.784664Z",
     "iopub.status.idle": "2020-07-09T06:33:03.800650Z",
     "shell.execute_reply": "2020-07-09T06:33:03.800255Z"
    },
    "papermill": {
     "duration": 0.028858,
     "end_time": "2020-07-09T06:33:03.800726",
     "exception": false,
     "start_time": "2020-07-09T06:33:03.771868",
     "status": "completed"
    },
    "tags": []
   },
   "outputs": [],
   "source": [
    "images = feed_forward(trained_model, np.random.normal(size=(16, 100)), training=False)"
   ]
  },
  {
   "cell_type": "code",
   "execution_count": 16,
   "metadata": {
    "execution": {
     "iopub.execute_input": "2020-07-09T06:33:03.828547Z",
     "iopub.status.busy": "2020-07-09T06:33:03.825063Z",
     "iopub.status.idle": "2020-07-09T06:33:04.093120Z",
     "shell.execute_reply": "2020-07-09T06:33:04.093385Z"
    },
    "papermill": {
     "duration": 0.28224,
     "end_time": "2020-07-09T06:33:04.093460",
     "exception": false,
     "start_time": "2020-07-09T06:33:03.811220",
     "status": "completed"
    },
    "tags": []
   },
   "outputs": [
    {
     "data": {
      "image/png": "[encoded data removed]",
      "text/plain": [
       "<Figure size 432x288 with 16 Axes>"
      ]
     },
     "metadata": {
      "needs_background": "light"
     },
     "output_type": "display_data"
    }
   ],
   "source": [
    "fig, axes = plt.subplots(4, 4)\n",
    "axes = np.ravel(axes)\n",
    "for i in range(images.shape[0]):\n",
    "    axes[i].axis('off')\n",
    "    axes[i].imshow(np.squeeze(images[i, ...] * 127.5 + 127.5), cmap='gray')"
   ]
  }
 ],
 "metadata": {
  "celltoolbar": "Tags",
  "kernelspec": {
   "display_name": "Python 3",
   "language": "python",
   "name": "python3"
  },
  "language_info": {
   "codemirror_mode": {
    "name": "ipython",
    "version": 3
   },
   "file_extension": ".py",
   "mimetype": "text/x-python",
   "name": "python",
   "nbconvert_exporter": "python",
   "pygments_lexer": "ipython3",
   "version": "3.6.10"
  },
  "papermill": {
   "duration": 12.050324,
   "end_time": "2020-07-09T06:33:05.408183",
   "environment_variables": {},
   "exception": null,
   "input_path": "/home/geez219/python_project/fastestimator/apphub/image_generation/dcgan/dcgan.ipynb",
   "output_path": "/home/geez219/python_project/fastestimator/test/apphub_scripts/image_generation/dcgan/dcgan_out.ipynb",
   "parameters": {
    "batch_size": 8,
    "epochs": 5,
    "max_train_steps_per_epoch": 10,
    "model_name": "model_epoch_5.h5"
   },
   "start_time": "2020-07-09T06:32:53.357859",
   "version": "2.1.1"
  }
 },
 "nbformat": 4,
 "nbformat_minor": 4
}