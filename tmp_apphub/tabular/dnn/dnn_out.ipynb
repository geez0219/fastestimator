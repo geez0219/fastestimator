{
 "cells": [
  {
   "cell_type": "markdown",
   "metadata": {
    "papermill": {
     "duration": 0.044617,
     "end_time": "2020-07-09T06:33:21.816215",
     "exception": false,
     "start_time": "2020-07-09T06:33:21.771598",
     "status": "completed"
    },
    "tags": []
   },
   "source": [
    "# Breast Cancer Detection"
   ]
  },
  {
   "cell_type": "markdown",
   "metadata": {
    "papermill": {
     "duration": 0.007171,
     "end_time": "2020-07-09T06:33:21.832202",
     "exception": false,
     "start_time": "2020-07-09T06:33:21.825031",
     "status": "completed"
    },
    "tags": []
   },
   "source": [
    "## Import the required libraries"
   ]
  },
  {
   "cell_type": "code",
   "execution_count": 1,
   "metadata": {
    "execution": {
     "iopub.execute_input": "2020-07-09T06:33:21.849830Z",
     "iopub.status.busy": "2020-07-09T06:33:21.849489Z",
     "iopub.status.idle": "2020-07-09T06:33:24.609431Z",
     "shell.execute_reply": "2020-07-09T06:33:24.609045Z"
    },
    "papermill": {
     "duration": 2.770236,
     "end_time": "2020-07-09T06:33:24.609504",
     "exception": false,
     "start_time": "2020-07-09T06:33:21.839268",
     "status": "completed"
    },
    "tags": []
   },
   "outputs": [],
   "source": [
    "import tempfile\n",
    "\n",
    "import tensorflow as tf\n",
    "import pandas as pd\n",
    "from sklearn.preprocessing import StandardScaler\n",
    "\n",
    "import fastestimator as fe\n",
    "from fastestimator.dataset.data import breast_cancer\n",
    "from fastestimator.op.tensorop.loss import CrossEntropy\n",
    "from fastestimator.op.tensorop.model import ModelOp, UpdateOp\n",
    "from fastestimator.trace.io import BestModelSaver\n",
    "from fastestimator.trace.metric import Accuracy"
   ]
  },
  {
   "cell_type": "code",
   "execution_count": 2,
   "metadata": {
    "execution": {
     "iopub.execute_input": "2020-07-09T06:33:24.632927Z",
     "iopub.status.busy": "2020-07-09T06:33:24.632571Z",
     "iopub.status.idle": "2020-07-09T06:33:24.634335Z",
     "shell.execute_reply": "2020-07-09T06:33:24.634035Z"
    },
    "papermill": {
     "duration": 0.016248,
     "end_time": "2020-07-09T06:33:24.634400",
     "exception": false,
     "start_time": "2020-07-09T06:33:24.618152",
     "status": "completed"
    },
    "tags": [
     "parameters"
    ]
   },
   "outputs": [],
   "source": [
    "#training parameters\n",
    "batch_size = 4\n",
    "epochs = 10\n",
    "save_dir = tempfile.mkdtemp()\n",
    "max_train_steps_per_epoch = None\n",
    "max_eval_steps_per_epoch = None"
   ]
  },
  {
   "cell_type": "code",
   "execution_count": 3,
   "metadata": {
    "execution": {
     "iopub.execute_input": "2020-07-09T06:33:24.656234Z",
     "iopub.status.busy": "2020-07-09T06:33:24.655890Z",
     "iopub.status.idle": "2020-07-09T06:33:24.657590Z",
     "shell.execute_reply": "2020-07-09T06:33:24.657274Z"
    },
    "papermill": {
     "duration": 0.015591,
     "end_time": "2020-07-09T06:33:24.657717",
     "exception": false,
     "start_time": "2020-07-09T06:33:24.642126",
     "status": "completed"
    },
    "tags": [
     "injected-parameters"
    ]
   },
   "outputs": [],
   "source": [
    "# Parameters\n",
    "epochs = 2\n",
    "batch_size = 8\n",
    "max_train_steps_per_epoch = 10\n",
    "max_eval_steps_per_epoch = 10\n"
   ]
  },
  {
   "cell_type": "markdown",
   "metadata": {
    "papermill": {
     "duration": 0.011088,
     "end_time": "2020-07-09T06:33:24.681932",
     "exception": false,
     "start_time": "2020-07-09T06:33:24.670844",
     "status": "completed"
    },
    "tags": []
   },
   "source": [
    "# Download data"
   ]
  },
  {
   "cell_type": "markdown",
   "metadata": {
    "papermill": {
     "duration": 0.010979,
     "end_time": "2020-07-09T06:33:24.702407",
     "exception": false,
     "start_time": "2020-07-09T06:33:24.691428",
     "status": "completed"
    },
    "tags": []
   },
   "source": [
    "This downloads some tabular data with different features stored in numerical format in a table. We then split the data into train, evaluation, and testing data sets."
   ]
  },
  {
   "cell_type": "code",
   "execution_count": 4,
   "metadata": {
    "execution": {
     "iopub.execute_input": "2020-07-09T06:33:24.727060Z",
     "iopub.status.busy": "2020-07-09T06:33:24.725560Z",
     "iopub.status.idle": "2020-07-09T06:33:24.736145Z",
     "shell.execute_reply": "2020-07-09T06:33:24.735777Z"
    },
    "papermill": {
     "duration": 0.022848,
     "end_time": "2020-07-09T06:33:24.736212",
     "exception": false,
     "start_time": "2020-07-09T06:33:24.713364",
     "status": "completed"
    },
    "tags": []
   },
   "outputs": [],
   "source": [
    "train_data, eval_data = breast_cancer.load_data()\n",
    "test_data = eval_data.split(0.5)"
   ]
  },
  {
   "cell_type": "markdown",
   "metadata": {
    "papermill": {
     "duration": 0.007375,
     "end_time": "2020-07-09T06:33:24.751641",
     "exception": false,
     "start_time": "2020-07-09T06:33:24.744266",
     "status": "completed"
    },
    "tags": []
   },
   "source": [
    "This is what the raw data looks like:"
   ]
  },
  {
   "cell_type": "code",
   "execution_count": 5,
   "metadata": {
    "execution": {
     "iopub.execute_input": "2020-07-09T06:33:24.783656Z",
     "iopub.status.busy": "2020-07-09T06:33:24.783304Z",
     "iopub.status.idle": "2020-07-09T06:33:24.788448Z",
     "shell.execute_reply": "2020-07-09T06:33:24.788114Z"
    },
    "papermill": {
     "duration": 0.02893,
     "end_time": "2020-07-09T06:33:24.788516",
     "exception": false,
     "start_time": "2020-07-09T06:33:24.759586",
     "status": "completed"
    },
    "tags": []
   },
   "outputs": [
    {
     "data": {
      "text/html": [
       "<div>\n",
       "<style scoped>\n",
       "    .dataframe tbody tr th:only-of-type {\n",
       "        vertical-align: middle;\n",
       "    }\n",
       "\n",
       "    .dataframe tbody tr th {\n",
       "        vertical-align: top;\n",
       "    }\n",
       "\n",
       "    .dataframe thead th {\n",
       "        text-align: right;\n",
       "    }\n",
       "</style>\n",
       "<table border=\"1\" class=\"dataframe\">\n",
       "  <thead>\n",
       "    <tr style=\"text-align: right;\">\n",
       "      <th></th>\n",
       "      <th>x</th>\n",
       "      <th>y</th>\n",
       "    </tr>\n",
       "  </thead>\n",
       "  <tbody>\n",
       "    <tr>\n",
       "      <th>0</th>\n",
       "      <td>[9.029, 17.33, 58.79, 250.5, 0.1066, 0.1413, 0...</td>\n",
       "      <td>1</td>\n",
       "    </tr>\n",
       "    <tr>\n",
       "      <th>1</th>\n",
       "      <td>[21.09, 26.57, 142.7, 1311.0, 0.1141, 0.2832, ...</td>\n",
       "      <td>0</td>\n",
       "    </tr>\n",
       "    <tr>\n",
       "      <th>2</th>\n",
       "      <td>[9.173, 13.86, 59.2, 260.9, 0.07721, 0.08751, ...</td>\n",
       "      <td>1</td>\n",
       "    </tr>\n",
       "    <tr>\n",
       "      <th>3</th>\n",
       "      <td>[10.65, 25.22, 68.01, 347.0, 0.09657, 0.07234,...</td>\n",
       "      <td>1</td>\n",
       "    </tr>\n",
       "    <tr>\n",
       "      <th>4</th>\n",
       "      <td>[10.17, 14.88, 64.55, 311.9, 0.1134, 0.08061, ...</td>\n",
       "      <td>1</td>\n",
       "    </tr>\n",
       "  </tbody>\n",
       "</table>\n",
       "</div>"
      ],
      "text/plain": [
       "                                                   x  y\n",
       "0  [9.029, 17.33, 58.79, 250.5, 0.1066, 0.1413, 0...  1\n",
       "1  [21.09, 26.57, 142.7, 1311.0, 0.1141, 0.2832, ...  0\n",
       "2  [9.173, 13.86, 59.2, 260.9, 0.07721, 0.08751, ...  1\n",
       "3  [10.65, 25.22, 68.01, 347.0, 0.09657, 0.07234,...  1\n",
       "4  [10.17, 14.88, 64.55, 311.9, 0.1134, 0.08061, ...  1"
      ]
     },
     "execution_count": 5,
     "metadata": {},
     "output_type": "execute_result"
    }
   ],
   "source": [
    "df = pd.DataFrame.from_dict(train_data.data, orient='index')\n",
    "df.head()"
   ]
  },
  {
   "cell_type": "code",
   "execution_count": 6,
   "metadata": {
    "execution": {
     "iopub.execute_input": "2020-07-09T06:33:24.807587Z",
     "iopub.status.busy": "2020-07-09T06:33:24.807237Z",
     "iopub.status.idle": "2020-07-09T06:33:24.811755Z",
     "shell.execute_reply": "2020-07-09T06:33:24.812043Z"
    },
    "papermill": {
     "duration": 0.015261,
     "end_time": "2020-07-09T06:33:24.812137",
     "exception": false,
     "start_time": "2020-07-09T06:33:24.796876",
     "status": "completed"
    },
    "tags": []
   },
   "outputs": [],
   "source": [
    "scaler = StandardScaler()\n",
    "train_data[\"x\"] = scaler.fit_transform(train_data[\"x\"])\n",
    "eval_data[\"x\"] = scaler.transform(eval_data[\"x\"])\n",
    "test_data[\"x\"] = scaler.transform(test_data[\"x\"])"
   ]
  },
  {
   "cell_type": "markdown",
   "metadata": {
    "papermill": {
     "duration": 0.008356,
     "end_time": "2020-07-09T06:33:24.828677",
     "exception": false,
     "start_time": "2020-07-09T06:33:24.820321",
     "status": "completed"
    },
    "tags": []
   },
   "source": [
    "# Building Components"
   ]
  },
  {
   "cell_type": "markdown",
   "metadata": {
    "papermill": {
     "duration": 0.010088,
     "end_time": "2020-07-09T06:33:24.846874",
     "exception": false,
     "start_time": "2020-07-09T06:33:24.836786",
     "status": "completed"
    },
    "tags": []
   },
   "source": [
    "## Step 1: Create `Pipeline`"
   ]
  },
  {
   "cell_type": "markdown",
   "metadata": {
    "papermill": {
     "duration": 0.008753,
     "end_time": "2020-07-09T06:33:24.864636",
     "exception": false,
     "start_time": "2020-07-09T06:33:24.855883",
     "status": "completed"
    },
    "tags": []
   },
   "source": [
    "We create the `Pipeline` with the usual train, eval, and test data along with the batch size:"
   ]
  },
  {
   "cell_type": "code",
   "execution_count": 7,
   "metadata": {
    "execution": {
     "iopub.execute_input": "2020-07-09T06:33:24.884807Z",
     "iopub.status.busy": "2020-07-09T06:33:24.884471Z",
     "iopub.status.idle": "2020-07-09T06:33:24.886045Z",
     "shell.execute_reply": "2020-07-09T06:33:24.885758Z"
    },
    "papermill": {
     "duration": 0.013343,
     "end_time": "2020-07-09T06:33:24.886110",
     "exception": false,
     "start_time": "2020-07-09T06:33:24.872767",
     "status": "completed"
    },
    "tags": []
   },
   "outputs": [],
   "source": [
    "pipeline = fe.Pipeline(train_data=train_data, eval_data=eval_data, test_data=test_data, batch_size=batch_size)"
   ]
  },
  {
   "cell_type": "markdown",
   "metadata": {
    "papermill": {
     "duration": 0.00823,
     "end_time": "2020-07-09T06:33:24.902381",
     "exception": false,
     "start_time": "2020-07-09T06:33:24.894151",
     "status": "completed"
    },
    "tags": []
   },
   "source": [
    "## Step 2: Create `Network`"
   ]
  },
  {
   "cell_type": "markdown",
   "metadata": {
    "papermill": {
     "duration": 0.008361,
     "end_time": "2020-07-09T06:33:24.918936",
     "exception": false,
     "start_time": "2020-07-09T06:33:24.910575",
     "status": "completed"
    },
    "tags": []
   },
   "source": [
    "We first define the neural network in a function that can then be passed on to the FastEstimator `Network`:"
   ]
  },
  {
   "cell_type": "code",
   "execution_count": 8,
   "metadata": {
    "execution": {
     "iopub.execute_input": "2020-07-09T06:33:24.943010Z",
     "iopub.status.busy": "2020-07-09T06:33:24.942629Z",
     "iopub.status.idle": "2020-07-09T06:33:24.943917Z",
     "shell.execute_reply": "2020-07-09T06:33:24.944180Z"
    },
    "papermill": {
     "duration": 0.015648,
     "end_time": "2020-07-09T06:33:24.944276",
     "exception": false,
     "start_time": "2020-07-09T06:33:24.928628",
     "status": "completed"
    },
    "tags": []
   },
   "outputs": [],
   "source": [
    "def create_dnn():\n",
    "    model = tf.keras.Sequential()\n",
    "    model.add(tf.keras.layers.Dense(32, activation=\"relu\", input_shape=(30, )))\n",
    "    model.add(tf.keras.layers.Dropout(0.5))\n",
    "    model.add(tf.keras.layers.Dense(16, activation=\"relu\"))\n",
    "    model.add(tf.keras.layers.Dropout(0.5))\n",
    "    model.add(tf.keras.layers.Dense(8, activation=\"relu\"))\n",
    "    model.add(tf.keras.layers.Dropout(0.5))\n",
    "    model.add(tf.keras.layers.Dense(1, activation=\"sigmoid\"))\n",
    "    return model"
   ]
  },
  {
   "cell_type": "code",
   "execution_count": 9,
   "metadata": {
    "execution": {
     "iopub.execute_input": "2020-07-09T06:33:24.971779Z",
     "iopub.status.busy": "2020-07-09T06:33:24.969340Z",
     "iopub.status.idle": "2020-07-09T06:33:25.203104Z",
     "shell.execute_reply": "2020-07-09T06:33:25.202802Z"
    },
    "papermill": {
     "duration": 0.251008,
     "end_time": "2020-07-09T06:33:25.203176",
     "exception": false,
     "start_time": "2020-07-09T06:33:24.952168",
     "status": "completed"
    },
    "tags": []
   },
   "outputs": [],
   "source": [
    "model = fe.build(model_fn=create_dnn, optimizer_fn=\"adam\")\n",
    "network = fe.Network(ops=[\n",
    "    ModelOp(inputs=\"x\", model=model, outputs=\"y_pred\"),\n",
    "    CrossEntropy(inputs=(\"y_pred\", \"y\"), outputs=\"ce\"),\n",
    "    UpdateOp(model=model, loss_name=\"ce\", mode=\"!infer\")\n",
    "])"
   ]
  },
  {
   "cell_type": "markdown",
   "metadata": {
    "papermill": {
     "duration": 0.008266,
     "end_time": "2020-07-09T06:33:25.219885",
     "exception": false,
     "start_time": "2020-07-09T06:33:25.211619",
     "status": "completed"
    },
    "tags": []
   },
   "source": [
    "## Step 3: Create `Estimator`"
   ]
  },
  {
   "cell_type": "code",
   "execution_count": 10,
   "metadata": {
    "execution": {
     "iopub.execute_input": "2020-07-09T06:33:25.246631Z",
     "iopub.status.busy": "2020-07-09T06:33:25.246268Z",
     "iopub.status.idle": "2020-07-09T06:33:25.247952Z",
     "shell.execute_reply": "2020-07-09T06:33:25.247634Z"
    },
    "papermill": {
     "duration": 0.016502,
     "end_time": "2020-07-09T06:33:25.248016",
     "exception": false,
     "start_time": "2020-07-09T06:33:25.231514",
     "status": "completed"
    },
    "tags": []
   },
   "outputs": [],
   "source": [
    "traces = [\n",
    "    Accuracy(true_key=\"y\", pred_key=\"y_pred\"),\n",
    "    BestModelSaver(model=model, save_dir=save_dir, metric=\"accuracy\", save_best_mode=\"max\")\n",
    "]\n",
    "estimator = fe.Estimator(pipeline=pipeline,\n",
    "                         network=network,\n",
    "                         epochs=epochs,\n",
    "                         log_steps=10,\n",
    "                         traces=traces,\n",
    "                         max_train_steps_per_epoch=max_train_steps_per_epoch,\n",
    "                         max_eval_steps_per_epoch=max_eval_steps_per_epoch)"
   ]
  },
  {
   "cell_type": "markdown",
   "metadata": {
    "papermill": {
     "duration": 0.009202,
     "end_time": "2020-07-09T06:33:25.265142",
     "exception": false,
     "start_time": "2020-07-09T06:33:25.255940",
     "status": "completed"
    },
    "tags": []
   },
   "source": [
    "# Training"
   ]
  },
  {
   "cell_type": "code",
   "execution_count": 11,
   "metadata": {
    "execution": {
     "iopub.execute_input": "2020-07-09T06:33:25.283689Z",
     "iopub.status.busy": "2020-07-09T06:33:25.283369Z",
     "iopub.status.idle": "2020-07-09T06:33:28.756086Z",
     "shell.execute_reply": "2020-07-09T06:33:28.755803Z"
    },
    "papermill": {
     "duration": 3.482977,
     "end_time": "2020-07-09T06:33:28.756151",
     "exception": false,
     "start_time": "2020-07-09T06:33:25.273174",
     "status": "completed"
    },
    "tags": []
   },
   "outputs": [
    {
     "name": "stdout",
     "output_type": "stream",
     "text": [
      "    ______           __  ______     __  _                 __            \n",
      "   / ____/___ ______/ /_/ ____/____/ /_(_)___ ___  ____ _/ /_____  _____\n",
      "  / /_  / __ `/ ___/ __/ __/ / ___/ __/ / __ `__ \\/ __ `/ __/ __ \\/ ___/\n",
      " / __/ / /_/ (__  ) /_/ /___(__  ) /_/ / / / / / / /_/ / /_/ /_/ / /    \n",
      "/_/    \\__,_/____/\\__/_____/____/\\__/_/_/ /_/ /_/\\__,_/\\__/\\____/_/     \n",
      "                                                                        \n",
      "\n"
     ]
    },
    {
     "name": "stdout",
     "output_type": "stream",
     "text": [
      "FastEstimator-Start: step: 1; num_device: 0; logging_interval: 10; \n"
     ]
    },
    {
     "name": "stdout",
     "output_type": "stream",
     "text": [
      "FastEstimator-Train: step: 1; ce: 0.98030484; \n",
      "FastEstimator-Train: step: 10; ce: 1.062994; steps/sec: 564.8; \n",
      "FastEstimator-Train: step: 10; epoch: 1; epoch_time: 0.57 sec; \n"
     ]
    },
    {
     "name": "stdout",
     "output_type": "stream",
     "text": [
      "FastEstimator-BestModelSaver: Saved model to /tmp/tmpq_v_rg6o/model_best_accuracy.h5\n",
      "FastEstimator-Eval: step: 10; epoch: 1; ce: 0.67677504; accuracy: 0.3684210526315789; since_best_accuracy: 0; max_accuracy: 0.3684210526315789; \n"
     ]
    },
    {
     "name": "stdout",
     "output_type": "stream",
     "text": [
      "FastEstimator-Train: step: 20; ce: 0.77058136; steps/sec: 57.81; \n",
      "FastEstimator-Train: step: 20; epoch: 2; epoch_time: 0.18 sec; \n"
     ]
    },
    {
     "name": "stdout",
     "output_type": "stream",
     "text": [
      "FastEstimator-BestModelSaver: Saved model to /tmp/tmpq_v_rg6o/model_best_accuracy.h5\n",
      "FastEstimator-Eval: step: 20; epoch: 2; ce: 0.5647749; accuracy: 0.45614035087719296; since_best_accuracy: 0; max_accuracy: 0.45614035087719296; \n",
      "FastEstimator-Finish: step: 20; total_time: 1.7 sec; model_lr: 0.001; \n"
     ]
    }
   ],
   "source": [
    "estimator.fit()"
   ]
  },
  {
   "cell_type": "markdown",
   "metadata": {
    "papermill": {
     "duration": 0.008823,
     "end_time": "2020-07-09T06:33:28.775030",
     "exception": false,
     "start_time": "2020-07-09T06:33:28.766207",
     "status": "completed"
    },
    "tags": []
   },
   "source": [
    "## Model testing\n",
    "`Estimator.test` triggers model testing with the test dataset that was specified in our `Pipeline`. We can use this to evaluate our model's accuracy on previously unseen data:"
   ]
  },
  {
   "cell_type": "code",
   "execution_count": 12,
   "metadata": {
    "execution": {
     "iopub.execute_input": "2020-07-09T06:33:28.798523Z",
     "iopub.status.busy": "2020-07-09T06:33:28.798182Z",
     "iopub.status.idle": "2020-07-09T06:33:29.151271Z",
     "shell.execute_reply": "2020-07-09T06:33:29.150672Z"
    },
    "papermill": {
     "duration": 0.366854,
     "end_time": "2020-07-09T06:33:29.151374",
     "exception": false,
     "start_time": "2020-07-09T06:33:28.784520",
     "status": "completed"
    },
    "tags": []
   },
   "outputs": [
    {
     "name": "stdout",
     "output_type": "stream",
     "text": [
      "FastEstimator-Test: step: 20; epoch: 2; accuracy: 0.6140350877192983; \n"
     ]
    }
   ],
   "source": [
    "estimator.test()"
   ]
  }
 ],
 "metadata": {
  "celltoolbar": "Tags",
  "kernelspec": {
   "display_name": "Python 3",
   "language": "python",
   "name": "python3"
  },
  "language_info": {
   "codemirror_mode": {
    "name": "ipython",
    "version": 3
   },
   "file_extension": ".py",
   "mimetype": "text/x-python",
   "name": "python",
   "nbconvert_exporter": "python",
   "pygments_lexer": "ipython3",
   "version": "3.6.10"
  },
  "papermill": {
   "duration": 8.715432,
   "end_time": "2020-07-09T06:33:29.869308",
   "environment_variables": {},
   "exception": null,
   "input_path": "/home/geez219/python_project/fastestimator/apphub/tabular/dnn/dnn.ipynb",
   "output_path": "/home/geez219/python_project/fastestimator/test/apphub_scripts/tabular/dnn/dnn_out.ipynb",
   "parameters": {
    "batch_size": 8,
    "epochs": 2,
    "max_eval_steps_per_epoch": 10,
    "max_train_steps_per_epoch": 10
   },
   "start_time": "2020-07-09T06:33:21.153876",
   "version": "2.1.1"
  }
 },
 "nbformat": 4,
 "nbformat_minor": 4
}